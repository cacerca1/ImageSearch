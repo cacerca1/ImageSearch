{
 "cells": [
  {
   "cell_type": "code",
   "execution_count": 1,
   "id": "c2d49efb",
   "metadata": {},
   "outputs": [],
   "source": [
    "import glob\n",
    "import os\n",
    "import numpy as np\n",
    "from PIL import Image\n",
    "import matplotlib.pyplot as plt\n",
    "import random\n",
    "import seaborn as sn\n",
    "import boto3\n",
    "import re\n",
    "from io import BytesIO\n",
    "import base64\n",
    "# import tqdm\n",
    "import ast\n",
    "import sagemaker\n",
    "import time\n",
    "import json\n",
    "\n",
    "import torch\n",
    "import torch.nn as nn\n",
    "import torchvision.models as models\n",
    "from torch.autograd import Variable\n",
    "from torchvision import transforms"
   ]
  },
  {
   "cell_type": "code",
   "execution_count": 2,
   "id": "e754d71f",
   "metadata": {},
   "outputs": [],
   "source": [
    "from sagemaker.utils import name_from_base"
   ]
  },
  {
   "cell_type": "code",
   "execution_count": null,
   "id": "1b336f81",
   "metadata": {},
   "outputs": [],
   "source": []
  },
  {
   "cell_type": "code",
   "execution_count": 3,
   "id": "d33b91e6",
   "metadata": {},
   "outputs": [],
   "source": [
    "role = sagemaker.get_execution_role()\n",
    "sess = sagemaker.Session()\n",
    "region = sess.boto_region_name\n",
    "bucket = sess.default_bucket()"
   ]
  },
  {
   "cell_type": "markdown",
   "id": "95b6498e",
   "metadata": {},
   "source": [
    "# Herlper functions"
   ]
  },
  {
   "cell_type": "code",
   "execution_count": 4,
   "id": "9c0b580c",
   "metadata": {},
   "outputs": [],
   "source": [
    "#return all s3 keys\n",
    "def get_all_s3_keys(bucket, filt=None):\n",
    "    \"\"\"Get a list of all keys in an S3 bucket.\"\"\"    \n",
    "    keys = []\n",
    "\n",
    "    kwargs = {'Bucket': bucket}\n",
    "    while True:\n",
    "        resp = s3.list_objects_v2(**kwargs)\n",
    "        for obj in resp['Contents']:\n",
    "            key = obj['Key']\n",
    "            if filt is not None:\n",
    "                if filt not in key:\n",
    "                    continue\n",
    "            keys.append('s3://' + bucket + '/' + key)\n",
    "\n",
    "        try:\n",
    "            kwargs['ContinuationToken'] = resp['NextContinuationToken']\n",
    "        except KeyError:\n",
    "            break\n",
    "\n",
    "    return keys"
   ]
  },
  {
   "cell_type": "markdown",
   "id": "732da579",
   "metadata": {},
   "source": [
    "# Make Model"
   ]
  },
  {
   "cell_type": "code",
   "execution_count": 108,
   "id": "b2b623b9",
   "metadata": {},
   "outputs": [
    {
     "name": "stderr",
     "output_type": "stream",
     "text": [
      "Downloading: \"https://download.pytorch.org/models/resnet50-19c8e357.pth\" to /home/ec2-user/.cache/torch/checkpoints/resnet50-19c8e357.pth\n"
     ]
    },
    {
     "data": {
      "application/vnd.jupyter.widget-view+json": {
       "model_id": "33b69849e48f433db050cac4044aaae3",
       "version_major": 2,
       "version_minor": 0
      },
      "text/plain": [
       "  0%|          | 0.00/97.8M [00:00<?, ?B/s]"
      ]
     },
     "metadata": {},
     "output_type": "display_data"
    },
    {
     "data": {
      "text/plain": [
       "device(type='cpu')"
      ]
     },
     "execution_count": 108,
     "metadata": {},
     "output_type": "execute_result"
    }
   ],
   "source": [
    "\n",
    "resnet50 = models.resnet50(pretrained=True)\n",
    "\n",
    "_ = resnet50.eval()\n",
    "# _ = resnet50.cuda()\n",
    "\n",
    "modules=list(resnet50.children())[:-1]\n",
    "resnet50=nn.Sequential(*modules)\n",
    "for p in resnet50.parameters():\n",
    "    p.requires_grad = False\n",
    "\n",
    "transform = transforms.Compose([transforms.ToTensor()])\n",
    "\n",
    "device = torch.device('cuda:0' if torch.cuda.is_available() else \"cpu\")\n",
    "\n",
    "resnet50 = resnet50.to(device)\n",
    "\n",
    "device\n"
   ]
  },
  {
   "cell_type": "code",
   "execution_count": null,
   "id": "e4379771",
   "metadata": {},
   "outputs": [],
   "source": []
  },
  {
   "cell_type": "markdown",
   "id": "abde15af",
   "metadata": {},
   "source": [
    "# Test model with a single image"
   ]
  },
  {
   "cell_type": "code",
   "execution_count": 5,
   "id": "31c6dab9",
   "metadata": {},
   "outputs": [],
   "source": [
    "s3 = boto3.client('s3')"
   ]
  },
  {
   "cell_type": "code",
   "execution_count": 6,
   "id": "5b65b81e",
   "metadata": {},
   "outputs": [],
   "source": [
    "data_bucket = 'sagemaker-us-east-2-333209439517'"
   ]
  },
  {
   "cell_type": "code",
   "execution_count": 96,
   "id": "c582b00c",
   "metadata": {},
   "outputs": [
    {
     "data": {
      "text/plain": [
       "('s3://sagemaker-us-east-2-333209439517/geological_similarity/andesite/012L6.jpg',\n",
       " 29998)"
      ]
     },
     "execution_count": 96,
     "metadata": {},
     "output_type": "execute_result"
    }
   ],
   "source": [
    "s3_uris = get_all_s3_keys(data_bucket, filt='jpg')\n",
    "\n",
    "s3_uris[0], len(s3_uris)"
   ]
  },
  {
   "cell_type": "code",
   "execution_count": 128,
   "id": "f4135e54",
   "metadata": {},
   "outputs": [
    {
     "data": {
      "text/plain": [
       "'s3://sagemaker-us-east-2-333209439517/geological_similarity/andesite/012L6.jpg'"
      ]
     },
     "execution_count": 128,
     "metadata": {},
     "output_type": "execute_result"
    }
   ],
   "source": [
    "s3_uri = s3_uris[0]\n",
    "s3_uri"
   ]
  },
  {
   "cell_type": "code",
   "execution_count": 129,
   "id": "dfd7523e",
   "metadata": {},
   "outputs": [],
   "source": [
    "# s3_uri = 's3://sagemaker-us-east-2-333209439517/geological_similarity/andesite/012L6.jpg'"
   ]
  },
  {
   "cell_type": "code",
   "execution_count": 130,
   "id": "b8339719",
   "metadata": {},
   "outputs": [],
   "source": [
    "payload = s3.get_object(Bucket=data_bucket,Key=s3_uri.replace(f's3://{data_bucket}/', ''))['Body'].read()"
   ]
  },
  {
   "cell_type": "code",
   "execution_count": 131,
   "id": "00835028",
   "metadata": {},
   "outputs": [
    {
     "data": {
      "image/png": "[encoded data removed]",
      "text/plain": [
       "<PIL.JpegImagePlugin.JpegImageFile image mode=RGB size=28x28 at 0x7F46C3CB9710>"
      ]
     },
     "execution_count": 131,
     "metadata": {},
     "output_type": "execute_result"
    }
   ],
   "source": [
    "\n",
    "im_file = BytesIO(payload)  # convert image to file-like object\n",
    "img = Image.open(im_file)   # img is now PIL Image object\n",
    "\n",
    "img"
   ]
  },
  {
   "cell_type": "code",
   "execution_count": 132,
   "id": "46deb18e",
   "metadata": {},
   "outputs": [],
   "source": [
    "encoded_image = base64.b64encode(payload).decode('utf-8')\n",
    "req = {'inputs':encoded_image}"
   ]
  },
  {
   "cell_type": "code",
   "execution_count": 133,
   "id": "9cbd81f8",
   "metadata": {},
   "outputs": [
    {
     "name": "stdout",
     "output_type": "stream",
     "text": [
      "(28, 28, 3)\n"
     ]
    },
    {
     "data": {
      "image/png": "[encoded data removed]",
      "text/plain": [
       "<PIL.JpegImagePlugin.JpegImageFile image mode=RGB size=28x28 at 0x7F46C411F748>"
      ]
     },
     "execution_count": 133,
     "metadata": {},
     "output_type": "execute_result"
    }
   ],
   "source": [
    "im_bytes = base64.b64decode(encoded_image)   # im_bytes is a binary image\n",
    "im_file = BytesIO(im_bytes)  # convert image to file-like object\n",
    "image = Image.open(im_file)   # img is now PIL Image object\n",
    "im = np.asarray(image)# convert image to numpy array\n",
    "print(im.shape)\n",
    "image"
   ]
  },
  {
   "cell_type": "code",
   "execution_count": 111,
   "id": "3cf7db8b",
   "metadata": {},
   "outputs": [],
   "source": [
    "im = np.asarray(img)# convert image to numpy array"
   ]
  },
  {
   "cell_type": "code",
   "execution_count": 112,
   "id": "37e84a8c",
   "metadata": {},
   "outputs": [
    {
     "data": {
      "text/plain": [
       "(28, 28, 3)"
      ]
     },
     "execution_count": 112,
     "metadata": {},
     "output_type": "execute_result"
    }
   ],
   "source": [
    "im.shape"
   ]
  },
  {
   "cell_type": "code",
   "execution_count": 113,
   "id": "cde68df9",
   "metadata": {},
   "outputs": [],
   "source": [
    "im = np.moveaxis(im, -1, 0)"
   ]
  },
  {
   "cell_type": "code",
   "execution_count": 114,
   "id": "7591e2f5",
   "metadata": {},
   "outputs": [
    {
     "data": {
      "text/plain": [
       "(3, 28, 28)"
      ]
     },
     "execution_count": 114,
     "metadata": {},
     "output_type": "execute_result"
    }
   ],
   "source": [
    "im.shape"
   ]
  },
  {
   "cell_type": "code",
   "execution_count": null,
   "id": "28f945d8",
   "metadata": {},
   "outputs": [],
   "source": [
    "img = transform(im) # convert to tensor\n",
    "#img = img.reshape(1,3,28,28)\n",
    "img = torch.unsqueeze(img, 0)\n",
    "img = img.to(device)\n"
   ]
  },
  {
   "cell_type": "code",
   "execution_count": null,
   "id": "16eab85d",
   "metadata": {},
   "outputs": [],
   "source": [
    "img.shape"
   ]
  },
  {
   "cell_type": "code",
   "execution_count": null,
   "id": "d410e859",
   "metadata": {},
   "outputs": [],
   "source": [
    "\n",
    "with torch.no_grad():\n",
    "    feature = resnet50(img)\n",
    "\n",
    "feature = feature.cpu().detach().numpy().reshape(-1)\n",
    "\n",
    "feature.shape"
   ]
  },
  {
   "cell_type": "code",
   "execution_count": null,
   "id": "7eaf9142",
   "metadata": {},
   "outputs": [],
   "source": []
  },
  {
   "cell_type": "code",
   "execution_count": 134,
   "id": "d7b5c575",
   "metadata": {},
   "outputs": [
    {
     "data": {
      "text/plain": [
       "{'inputs': '/9j/4AAQSkZJRgABAQAAAQABAAD/2wBDAAIBAQEBAQIBAQECAgICAgQDAgICAgUEBAMEBgUGBgYFBgYGBwkIBgcJBwYGCAsICQoKCgoKBggLDAsKDAkKCgr/2wBDAQICAgICAgUDAwUKBwYHCgoKCgoKCgoKCgoKCgoKCgoKCgoKCgoKCgoKCgoKCgoKCgoKCgoKCgoKCgoKCgoKCgr/wAARCAAcABwDASIAAhEBAxEB/8QAHwAAAQUBAQEBAQEAAAAAAAAAAAECAwQFBgcICQoL/8QAtRAAAgEDAwIEAwUFBAQAAAF9AQIDAAQRBRIhMUEGE1FhByJxFDKBkaEII0KxwRVS0fAkM2JyggkKFhcYGRolJicoKSo0NTY3ODk6Q0RFRkdISUpTVFVWV1hZWmNkZWZnaGlqc3R1dnd4eXqDhIWGh4iJipKTlJWWl5iZmqKjpKWmp6ipqrKztLW2t7i5usLDxMXGx8jJytLT1NXW19jZ2uHi4+Tl5ufo6erx8vP09fb3+Pn6/8QAHwEAAwEBAQEBAQEBAQAAAAAAAAECAwQFBgcICQoL/8QAtREAAgECBAQDBAcFBAQAAQJ3AAECAxEEBSExBhJBUQdhcRMiMoEIFEKRobHBCSMzUvAVYnLRChYkNOEl8RcYGRomJygpKjU2Nzg5OkNERUZHSElKU1RVVldYWVpjZGVmZ2hpanN0dXZ3eHl6goOEhYaHiImKkpOUlZaXmJmaoqOkpaanqKmqsrO0tba3uLm6wsPExcbHyMnK0tPU1dbX2Nna4uPk5ebn6Onq8vP09fb3+Pn6/9oADAMBAAIRAxEAPwDH8Yak0WkWVvDBK9zFeOIGiJIZGUdMd8447YNWvCl/qGk3jQ+H9QNsysDNcpK6GdQVIxjsOoz/AD4qJ4tQmslt5ltHVkzD5RVDyxAJGzOMqw98HpUawx+HmMGrX1rDE7RyOUbzJAoJwEAyM59x2rvjU97Y+WU9bnZeINaPizwVIuuQmW9sy2zUHuGaXyipBXDEhskIxz/cHpXHabpvizToGsNDfzoInIDiB3UE8kKf7ozxXX6HqGjXdjPDb3SxrNFsxfARhQE3Z6tuJA9uvpXS/Brxv4S+Hvhq60XVngupJdSkuEk8mRsK6JgfKjenr3r0I1HFcyVzqjRliLXdl3PF3v5VupLdYi06qMl/lGAeCBnp15HpgGrkOox293C5WJGmiIBKZUMOA746k5Az6KPTjPe5ZL0RbQUY52OSQMA8cnOOP1NWNFZNThLXkSsAsiY5HAkYDv1/z04ry4xlynNGKlG6exPpGsJbX0az3ZG1VDEZyj/eJJ/z6VfvPEmt3Ny81jPAqE85hByfXpxxj8q57xdaRWF2qQZ2lpVIbnIBH9DisvURNFdtHHcuFXgDg/zFaxqzpws9ivbSoKyP/9k='}"
      ]
     },
     "execution_count": 134,
     "metadata": {},
     "output_type": "execute_result"
    }
   ],
   "source": [
    "req"
   ]
  },
  {
   "cell_type": "code",
   "execution_count": 135,
   "id": "6246af30",
   "metadata": {},
   "outputs": [],
   "source": [
    "data = json.loads(json.dumps(req))\n",
    "data = data['inputs']\n",
    "\n",
    "im_bytes = base64.b64decode(data)   # im_bytes is a binary image\n",
    "im_file = BytesIO(im_bytes)  # convert image to file-like object\n",
    "image = Image.open(im_file)   # img is now PIL Image object\n",
    "im = np.asarray(image)# convert image to numpy array\n",
    "im = np.moveaxis(im, -1, 0) # transpose to channels first\n",
    "data = torch.tensor(im, dtype=torch.float32)#, device=device)\n",
    "\n",
    "if torch.cuda.is_available():\n",
    "    data = data.cuda()\n",
    "data = torch.unsqueeze(data, 0)\n",
    "\n",
    "with torch.no_grad():\n",
    "    prediction = resnet50(data)\n",
    "\n",
    "res = prediction.cpu().numpy().tolist()"
   ]
  },
  {
   "cell_type": "code",
   "execution_count": 136,
   "id": "4a9313ed",
   "metadata": {},
   "outputs": [],
   "source": [
    "a1 = list(np.array(res).reshape(-1))"
   ]
  },
  {
   "cell_type": "code",
   "execution_count": 137,
   "id": "646ed59c",
   "metadata": {},
   "outputs": [],
   "source": [
    "a2 = list(prediction.cpu().detach().numpy().reshape(-1))"
   ]
  },
  {
   "cell_type": "code",
   "execution_count": 138,
   "id": "f7d93b64",
   "metadata": {},
   "outputs": [
    {
     "data": {
      "text/plain": [
       "(list, list)"
      ]
     },
     "execution_count": 138,
     "metadata": {},
     "output_type": "execute_result"
    }
   ],
   "source": [
    "type(a1), type(a2)"
   ]
  },
  {
   "cell_type": "code",
   "execution_count": 139,
   "id": "296aa1ef",
   "metadata": {},
   "outputs": [
    {
     "data": {
      "text/plain": [
       "True"
      ]
     },
     "execution_count": 139,
     "metadata": {},
     "output_type": "execute_result"
    }
   ],
   "source": [
    "a1 == a2"
   ]
  },
  {
   "cell_type": "code",
   "execution_count": 140,
   "id": "d178d31b",
   "metadata": {},
   "outputs": [
    {
     "data": {
      "text/plain": [
       "[37.10052,\n",
       " 53.191345,\n",
       " 5.5010576,\n",
       " 0.0,\n",
       " 0.0,\n",
       " 146.30594,\n",
       " 78.80407,\n",
       " 16.035696,\n",
       " 0.0,\n",
       " 7.563853]"
      ]
     },
     "execution_count": 140,
     "metadata": {},
     "output_type": "execute_result"
    }
   ],
   "source": [
    "a2[:10]"
   ]
  },
  {
   "cell_type": "code",
   "execution_count": null,
   "id": "0c9b4678",
   "metadata": {},
   "outputs": [],
   "source": []
  },
  {
   "cell_type": "markdown",
   "id": "fa382743",
   "metadata": {},
   "source": [
    "# Save model to s3"
   ]
  },
  {
   "cell_type": "code",
   "execution_count": null,
   "id": "c291c61e",
   "metadata": {},
   "outputs": [],
   "source": [
    "img.shape"
   ]
  },
  {
   "cell_type": "code",
   "execution_count": null,
   "id": "d5663d4c",
   "metadata": {},
   "outputs": [],
   "source": [
    "import tarfile"
   ]
  },
  {
   "cell_type": "code",
   "execution_count": null,
   "id": "fd428da4",
   "metadata": {},
   "outputs": [],
   "source": [
    "input_shape = [1, 3, 28, 28]\n",
    "trace = torch.jit.trace(resnet50.float().eval(), torch.zeros(input_shape).float())"
   ]
  },
  {
   "cell_type": "code",
   "execution_count": null,
   "id": "87bfc6b0",
   "metadata": {},
   "outputs": [],
   "source": [
    "trace.save(\"model.pth\")"
   ]
  },
  {
   "cell_type": "code",
   "execution_count": null,
   "id": "986adc74",
   "metadata": {},
   "outputs": [],
   "source": [
    "with tarfile.open(\"model.tar.gz\", \"w:gz\") as f:\n",
    "    f.add(\"model.pth\")"
   ]
  },
  {
   "cell_type": "code",
   "execution_count": null,
   "id": "f7a96280",
   "metadata": {},
   "outputs": [],
   "source": [
    "bucket"
   ]
  },
  {
   "cell_type": "code",
   "execution_count": null,
   "id": "2ab5decd",
   "metadata": {},
   "outputs": [],
   "source": [
    "compilation_job_name = name_from_base(\"TorchVision-ResNet50\")\n",
    "prefix = compilation_job_name + \"/model\""
   ]
  },
  {
   "cell_type": "code",
   "execution_count": null,
   "id": "36d977d5",
   "metadata": {},
   "outputs": [],
   "source": [
    "compilation_job_name, prefix"
   ]
  },
  {
   "cell_type": "code",
   "execution_count": null,
   "id": "548cf925",
   "metadata": {},
   "outputs": [],
   "source": [
    "model_path = sess.upload_data(path=\"model.tar.gz\", key_prefix=prefix)"
   ]
  },
  {
   "cell_type": "code",
   "execution_count": 145,
   "id": "bad9306d",
   "metadata": {},
   "outputs": [],
   "source": [
    "model_path = 's3://sagemaker-us-east-1-333209439517/TorchVision-ResNet50-2021-09-13-00-30-10-117/model/model.tar.gz'"
   ]
  },
  {
   "cell_type": "markdown",
   "id": "a7aaecdc",
   "metadata": {},
   "source": [
    "# Deploy model"
   ]
  },
  {
   "cell_type": "code",
   "execution_count": 142,
   "id": "cd729bd0",
   "metadata": {},
   "outputs": [],
   "source": [
    "import sagemaker\n",
    "from sagemaker.pytorch import PyTorchModel\n",
    "from sagemaker import get_execution_role, Session"
   ]
  },
  {
   "cell_type": "code",
   "execution_count": 143,
   "id": "e3a5cfc9",
   "metadata": {},
   "outputs": [
    {
     "data": {
      "text/plain": [
       "'arn:aws:iam::333209439517:role/service-role/AmazonSageMaker-ExecutionRole-20210623T145063'"
      ]
     },
     "execution_count": 143,
     "metadata": {},
     "output_type": "execute_result"
    }
   ],
   "source": [
    "role"
   ]
  },
  {
   "cell_type": "code",
   "execution_count": 141,
   "id": "f90b44f7",
   "metadata": {},
   "outputs": [
    {
     "ename": "NameError",
     "evalue": "name 'predictor' is not defined",
     "output_type": "error",
     "traceback": [
      "\u001b[0;31m---------------------------------------------------------------------------\u001b[0m",
      "\u001b[0;31mNameError\u001b[0m                                 Traceback (most recent call last)",
      "\u001b[0;32m<ipython-input-141-9dbbcf45efe1>\u001b[0m in \u001b[0;36m<module>\u001b[0;34m\u001b[0m\n\u001b[0;32m----> 1\u001b[0;31m \u001b[0mpredictor\u001b[0m\u001b[0;34m.\u001b[0m\u001b[0mdelete_endpoint\u001b[0m\u001b[0;34m(\u001b[0m\u001b[0;34m)\u001b[0m\u001b[0;34m\u001b[0m\u001b[0;34m\u001b[0m\u001b[0m\n\u001b[0m",
      "\u001b[0;31mNameError\u001b[0m: name 'predictor' is not defined"
     ]
    }
   ],
   "source": [
    "predictor.delete_endpoint()"
   ]
  },
  {
   "cell_type": "code",
   "execution_count": 146,
   "id": "d1eb868e",
   "metadata": {},
   "outputs": [],
   "source": [
    "model = PyTorchModel(\n",
    "    entry_point=\"inference.py\",\n",
    "    source_dir=\"code\",\n",
    "    role=role,\n",
    "    model_data=model_path,\n",
    "    framework_version=\"1.5.0\",\n",
    "    py_version=\"py3\",\n",
    ")"
   ]
  },
  {
   "cell_type": "code",
   "execution_count": 147,
   "id": "b0a4b6b0",
   "metadata": {},
   "outputs": [],
   "source": [
    "# SageMakerFullAccess - policy is a managed policy that includes all the necessary permissions required to perform most actions on SageMaker"
   ]
  },
  {
   "cell_type": "code",
   "execution_count": 148,
   "id": "112d11b0",
   "metadata": {},
   "outputs": [
    {
     "name": "stdout",
     "output_type": "stream",
     "text": [
      "---------------------!"
     ]
    }
   ],
   "source": [
    "from sagemaker.serializers import JSONSerializer\n",
    "from sagemaker.deserializers import JSONDeserializer\n",
    "\n",
    "# set local_mode to False if you want to deploy on a remote\n",
    "# SageMaker instance\n",
    "\n",
    "local_mode = False\n",
    "\n",
    "if local_mode:\n",
    "    instance_type = \"local\"\n",
    "else:\n",
    "    instance_type = \"ml.t2.medium\" #\"ml.c4.xlarge\"\n",
    "\n",
    "predictor = model.deploy(\n",
    "    initial_instance_count=1,\n",
    "    instance_type=instance_type,\n",
    "    serializer=JSONSerializer(),\n",
    "    deserializer=JSONDeserializer(),\n",
    ")"
   ]
  },
  {
   "cell_type": "code",
   "execution_count": 149,
   "id": "c7bde964",
   "metadata": {},
   "outputs": [
    {
     "data": {
      "text/plain": [
       "{'endpoint_name': 'pytorch-inference-2021-09-15-03-40-42-401',\n",
       " 'sagemaker_session': <sagemaker.session.Session at 0x7f46c3f1ff60>,\n",
       " 'serializer': <sagemaker.serializers.JSONSerializer at 0x7f46c3f1f208>,\n",
       " 'deserializer': <sagemaker.deserializers.JSONDeserializer at 0x7f46c3f1fda0>,\n",
       " '_endpoint_config_name': None,\n",
       " '_model_names': None,\n",
       " '_context': None}"
      ]
     },
     "execution_count": 149,
     "metadata": {},
     "output_type": "execute_result"
    }
   ],
   "source": [
    "predictor.__dict__"
   ]
  },
  {
   "cell_type": "code",
   "execution_count": 150,
   "id": "f257d78f",
   "metadata": {},
   "outputs": [
    {
     "data": {
      "text/plain": [
       "'pytorch-inference-2021-09-15-03-40-42-401'"
      ]
     },
     "execution_count": 150,
     "metadata": {},
     "output_type": "execute_result"
    }
   ],
   "source": [
    "predictor.endpoint_name"
   ]
  },
  {
   "cell_type": "code",
   "execution_count": 151,
   "id": "76123a40",
   "metadata": {},
   "outputs": [
    {
     "data": {
      "text/plain": [
       "('application/json',\n",
       " <sagemaker.serializers.JSONSerializer at 0x7f46c3f1f208>,\n",
       " <sagemaker.deserializers.JSONDeserializer at 0x7f46c3f1fda0>)"
      ]
     },
     "execution_count": 151,
     "metadata": {},
     "output_type": "execute_result"
    }
   ],
   "source": [
    "predictor.content_type, predictor.serializer, predictor.deserializer"
   ]
  },
  {
   "cell_type": "markdown",
   "id": "144c62f7",
   "metadata": {},
   "source": [
    "## Predict using 'predict' function"
   ]
  },
  {
   "cell_type": "code",
   "execution_count": 152,
   "id": "c76ce3cb",
   "metadata": {},
   "outputs": [],
   "source": [
    "res = predictor.predict(req)"
   ]
  },
  {
   "cell_type": "code",
   "execution_count": 153,
   "id": "16300299",
   "metadata": {},
   "outputs": [],
   "source": [
    "embedding = np.array(res).reshape(-1)"
   ]
  },
  {
   "cell_type": "code",
   "execution_count": 154,
   "id": "63cdce0f",
   "metadata": {},
   "outputs": [
    {
     "data": {
      "text/plain": [
       "(2048,)"
      ]
     },
     "execution_count": 154,
     "metadata": {},
     "output_type": "execute_result"
    }
   ],
   "source": [
    "embedding.shape"
   ]
  },
  {
   "cell_type": "code",
   "execution_count": 160,
   "id": "76d9cba2",
   "metadata": {},
   "outputs": [],
   "source": [
    "ENDPOINT_NAME = predictor.endpoint_name"
   ]
  },
  {
   "cell_type": "code",
   "execution_count": 161,
   "id": "56033b71",
   "metadata": {},
   "outputs": [
    {
     "data": {
      "text/plain": [
       "'pytorch-inference-2021-09-15-03-40-42-401'"
      ]
     },
     "execution_count": 161,
     "metadata": {},
     "output_type": "execute_result"
    }
   ],
   "source": [
    "ENDPOINT_NAME"
   ]
  },
  {
   "cell_type": "markdown",
   "id": "0c5e6fda",
   "metadata": {},
   "source": [
    "## Predict using 'invoke_endpoint'"
   ]
  },
  {
   "cell_type": "code",
   "execution_count": 156,
   "id": "d5eb15b1",
   "metadata": {},
   "outputs": [],
   "source": [
    "# define a function to extract image features\n",
    "from time import sleep \n",
    "\n",
    "sm_client = boto3.client('sagemaker-runtime')"
   ]
  },
  {
   "cell_type": "code",
   "execution_count": 157,
   "id": "9499e246",
   "metadata": {},
   "outputs": [],
   "source": [
    "ENDPOINT_NAME = 'pytorch-inference-2021-09-15-03-40-42-401'"
   ]
  },
  {
   "cell_type": "code",
   "execution_count": 162,
   "id": "7f1995eb",
   "metadata": {},
   "outputs": [],
   "source": [
    "resp = sm_client.invoke_endpoint(EndpointName=ENDPOINT_NAME, Body=json.dumps(req),ContentType='application/json') \n",
    "embedding = json.loads((resp['Body'].read()))\n",
    "embedding = list(np.array(embedding).reshape(-1))"
   ]
  },
  {
   "cell_type": "code",
   "execution_count": 163,
   "id": "4ec5b91a",
   "metadata": {},
   "outputs": [
    {
     "data": {
      "text/plain": [
       "2048"
      ]
     },
     "execution_count": 163,
     "metadata": {},
     "output_type": "execute_result"
    }
   ],
   "source": [
    "len(embedding)"
   ]
  },
  {
   "cell_type": "markdown",
   "id": "b9a2deb2",
   "metadata": {},
   "source": [
    "## Utility functions for prediction on an s3 object"
   ]
  },
  {
   "cell_type": "code",
   "execution_count": 20,
   "id": "91b31b12",
   "metadata": {},
   "outputs": [],
   "source": [
    "def get_predictions(payload): \n",
    "    return sm_client.invoke_endpoint(EndpointName=ENDPOINT_NAME, \n",
    "                                     Body=payload,\n",
    "                                     ContentType='application/json') \n",
    "\n",
    "def extract_features(s3_uri, bucket): \n",
    "    key = s3_uri.replace(f's3://{bucket}/', '') \n",
    "    payload = s3.get_object(Bucket=bucket,Key=key)['Body'].read() \n",
    "\n",
    "    sleep(0.1) \n",
    "    \n",
    "    # get image in base64 format\n",
    "    encoded_image = base64.b64encode(payload).decode('utf-8')\n",
    "    # get predictions\n",
    "    response = get_predictions(json.dumps({'inputs':encoded_image})) \n",
    "    # get response\n",
    "    response_body = json.loads((response['Body'].read())) \n",
    "    # reshape to list of len=2048\n",
    "    feature_lst = list(np.array(response_body).reshape(-1))\n",
    "    \n",
    "    return s3_uri, feature_lst"
   ]
  },
  {
   "cell_type": "markdown",
   "id": "8f3d352e",
   "metadata": {},
   "source": [
    "## Get features for all images"
   ]
  },
  {
   "cell_type": "code",
   "execution_count": 21,
   "id": "bbeaca2c",
   "metadata": {},
   "outputs": [
    {
     "data": {
      "text/plain": [
       "'s3://sagemaker-us-east-2-333209439517/geological_similarity/andesite/012L6.jpg'"
      ]
     },
     "execution_count": 21,
     "metadata": {},
     "output_type": "execute_result"
    }
   ],
   "source": [
    "s3_uri = s3_uris[0]\n",
    "s3_uri"
   ]
  },
  {
   "cell_type": "code",
   "execution_count": 22,
   "id": "4ae661fe",
   "metadata": {},
   "outputs": [],
   "source": [
    "uri, features = extract_features(s3_uri, data_bucket)"
   ]
  },
  {
   "cell_type": "code",
   "execution_count": 23,
   "id": "fb7d376a",
   "metadata": {},
   "outputs": [
    {
     "data": {
      "text/plain": [
       "'s3://sagemaker-us-east-2-333209439517/geological_similarity/andesite/012L6.jpg'"
      ]
     },
     "execution_count": 23,
     "metadata": {},
     "output_type": "execute_result"
    }
   ],
   "source": [
    "uri"
   ]
  },
  {
   "cell_type": "code",
   "execution_count": 24,
   "id": "f41e0b41",
   "metadata": {},
   "outputs": [
    {
     "data": {
      "text/plain": [
       "2048"
      ]
     },
     "execution_count": 24,
     "metadata": {},
     "output_type": "execute_result"
    }
   ],
   "source": [
    "len(features)"
   ]
  },
  {
   "cell_type": "code",
   "execution_count": 25,
   "id": "4fb269e1",
   "metadata": {},
   "outputs": [],
   "source": [
    "s3_resource = boto3.resource('s3')"
   ]
  },
  {
   "cell_type": "code",
   "execution_count": 26,
   "id": "97d062f2",
   "metadata": {},
   "outputs": [
    {
     "data": {
      "text/plain": [
       "s3.ServiceResource()"
      ]
     },
     "execution_count": 26,
     "metadata": {},
     "output_type": "execute_result"
    }
   ],
   "source": [
    "s3_resource"
   ]
  },
  {
   "cell_type": "code",
   "execution_count": 27,
   "id": "9fce067f",
   "metadata": {},
   "outputs": [
    {
     "data": {
      "text/plain": [
       "'sagemaker-us-east-1-333209439517'"
      ]
     },
     "execution_count": 27,
     "metadata": {},
     "output_type": "execute_result"
    }
   ],
   "source": [
    "bucket"
   ]
  },
  {
   "cell_type": "code",
   "execution_count": null,
   "id": "93135e06",
   "metadata": {},
   "outputs": [],
   "source": [
    "all_features = []\n",
    "for s3_uri in s3_uris:\n",
    "    _, features = extract_features(s3_uri, data_bucket)\n",
    "    all_features.append(features)"
   ]
  },
  {
   "cell_type": "code",
   "execution_count": null,
   "id": "83251811",
   "metadata": {},
   "outputs": [],
   "source": [
    "print(len(all_features))"
   ]
  },
  {
   "cell_type": "code",
   "execution_count": null,
   "id": "5f3cf77d",
   "metadata": {},
   "outputs": [],
   "source": [
    "f2 = [str(x) for x in all_features]"
   ]
  },
  {
   "cell_type": "code",
   "execution_count": null,
   "id": "0904fe06",
   "metadata": {},
   "outputs": [],
   "source": [
    "f2[0]"
   ]
  },
  {
   "cell_type": "code",
   "execution_count": null,
   "id": "c881ad58",
   "metadata": {},
   "outputs": [],
   "source": [
    "data = {'uris':s3_uris, 'features':all_features}"
   ]
  },
  {
   "cell_type": "code",
   "execution_count": null,
   "id": "609e5948",
   "metadata": {},
   "outputs": [],
   "source": [
    "s3object = s3_resource.Object(bucket, 'embeddings/resnet50_pretrained_features.json')\n",
    "s3object.put(Body=(bytes(json.dumps(data).encode('UTF-8'))))"
   ]
  },
  {
   "cell_type": "code",
   "execution_count": null,
   "id": "660c5a88",
   "metadata": {},
   "outputs": [],
   "source": [
    "bucket"
   ]
  },
  {
   "cell_type": "code",
   "execution_count": null,
   "id": "c18e1443",
   "metadata": {},
   "outputs": [],
   "source": [
    "import json\n",
    "import boto3\n",
    "\n",
    "s3 = boto3.client('s3')\n",
    "data = 'your_json_object here'\n",
    "s3.put_object(\n",
    "     Body=str(json.dumps(data))\n",
    "     Bucket='your_bucket_name'\n",
    "     Key='your_key_here'\n",
    ")"
   ]
  },
  {
   "cell_type": "code",
   "execution_count": null,
   "id": "ad5f74be",
   "metadata": {},
   "outputs": [],
   "source": [
    "np_feats = np.array(all_fe)"
   ]
  },
  {
   "cell_type": "markdown",
   "id": "d9e2090b",
   "metadata": {},
   "source": [
    "# Connect to Elasticsearch"
   ]
  },
  {
   "cell_type": "code",
   "execution_count": null,
   "id": "a521be28",
   "metadata": {},
   "outputs": [],
   "source": [
    "!pip install requests_aws4auth\n",
    "!pip install elasticsearch=='7.13.4' #https://opensearch.org/docs/clients/index/"
   ]
  },
  {
   "cell_type": "code",
   "execution_count": null,
   "id": "fa763823",
   "metadata": {},
   "outputs": [],
   "source": [
    "# !pip install  nltk\n",
    "# !pip install jsonlines\n",
    "# !pip install pandarallel\n",
    "# !pip install --upgrade grpcio \n",
    "# !pip install --upgrade s3fs\n"
   ]
  },
  {
   "cell_type": "code",
   "execution_count": 28,
   "id": "9d164a6e",
   "metadata": {},
   "outputs": [],
   "source": [
    "from requests_aws4auth import AWS4Auth\n",
    "from elasticsearch import Elasticsearch, RequestsHttpConnection"
   ]
  },
  {
   "cell_type": "code",
   "execution_count": 29,
   "id": "f2f26834",
   "metadata": {},
   "outputs": [],
   "source": [
    "import elasticsearch"
   ]
  },
  {
   "cell_type": "code",
   "execution_count": 30,
   "id": "08963112",
   "metadata": {},
   "outputs": [
    {
     "data": {
      "text/plain": [
       "(7, 13, 4)"
      ]
     },
     "execution_count": 30,
     "metadata": {},
     "output_type": "execute_result"
    }
   ],
   "source": [
    "elasticsearch.__version__"
   ]
  },
  {
   "cell_type": "code",
   "execution_count": 31,
   "id": "def39fff",
   "metadata": {},
   "outputs": [
    {
     "data": {
      "text/plain": [
       "'us-east-1'"
      ]
     },
     "execution_count": 31,
     "metadata": {},
     "output_type": "execute_result"
    }
   ],
   "source": [
    "region"
   ]
  },
  {
   "cell_type": "code",
   "execution_count": 32,
   "id": "d7a82b3b",
   "metadata": {},
   "outputs": [],
   "source": [
    "service = 'es'"
   ]
  },
  {
   "cell_type": "code",
   "execution_count": 33,
   "id": "181b4086",
   "metadata": {},
   "outputs": [],
   "source": [
    "# ssm = boto3.client('ssm', region_name=region)"
   ]
  },
  {
   "cell_type": "code",
   "execution_count": 34,
   "id": "6f334008",
   "metadata": {},
   "outputs": [],
   "source": [
    "credentials = boto3.Session().get_credentials()\n",
    "awsauth = AWS4Auth(credentials.access_key, credentials.secret_key,\n",
    "                   region, service, session_token=credentials.token)"
   ]
  },
  {
   "cell_type": "code",
   "execution_count": 35,
   "id": "539a07a7",
   "metadata": {},
   "outputs": [
    {
     "data": {
      "text/plain": [
       "'arn:aws:iam::333209439517:role/service-role/AmazonSageMaker-ExecutionRole-20210623T145063'"
      ]
     },
     "execution_count": 35,
     "metadata": {},
     "output_type": "execute_result"
    }
   ],
   "source": [
    "role"
   ]
  },
  {
   "cell_type": "code",
   "execution_count": 36,
   "id": "1064abeb",
   "metadata": {},
   "outputs": [
    {
     "data": {
      "text/plain": [
       "<botocore.credentials.RefreshableCredentials at 0x7f46cc7eb9b0>"
      ]
     },
     "execution_count": 36,
     "metadata": {},
     "output_type": "execute_result"
    }
   ],
   "source": [
    "credentials"
   ]
  },
  {
   "cell_type": "code",
   "execution_count": 37,
   "id": "744d5ffd",
   "metadata": {},
   "outputs": [],
   "source": [
    "host = \"search-search-all-wroz4g764qrjndse4eqbika2ia.us-east-1.es.amazonaws.com\"\n",
    "    \n",
    "es_index = 'knn-test-1'\n",
    "# \"search-domainname-yourDomainEndpoint.REGION.es.amazonaws.com\""
   ]
  },
  {
   "cell_type": "code",
   "execution_count": 38,
   "id": "6d65d341",
   "metadata": {},
   "outputs": [],
   "source": [
    "def connect_to_ES(esEndPoint):\n",
    "    print ('Connecting to the ES Endpoint {0}'.format(esEndPoint))\n",
    "    try:\n",
    "        esClient = Elasticsearch(\n",
    "            hosts=[{'host': esEndPoint, 'port': 443}],\n",
    "            http_auth=('cac','Test123$'),\n",
    "            use_ssl=True,\n",
    "            verify_certs=True,\n",
    "            connection_class=RequestsHttpConnection)\n",
    "        return esClient\n",
    "    except Exception as E:\n",
    "        print(\"Unable to connect to {0}\".format(esEndPoint))\n",
    "        print(E)"
   ]
  },
  {
   "cell_type": "code",
   "execution_count": null,
   "id": "b0e64379",
   "metadata": {},
   "outputs": [],
   "source": []
  },
  {
   "cell_type": "code",
   "execution_count": 39,
   "id": "fbb4ba79",
   "metadata": {},
   "outputs": [
    {
     "name": "stdout",
     "output_type": "stream",
     "text": [
      "Connecting to the ES Endpoint search-search-all-wroz4g764qrjndse4eqbika2ia.us-east-1.es.amazonaws.com\n"
     ]
    },
    {
     "data": {
      "text/plain": [
       "<Elasticsearch([{'host': 'search-search-all-wroz4g764qrjndse4eqbika2ia.us-east-1.es.amazonaws.com', 'port': 443}])>"
      ]
     },
     "execution_count": 39,
     "metadata": {},
     "output_type": "execute_result"
    }
   ],
   "source": [
    "es = connect_to_ES(host)\n",
    "es"
   ]
  },
  {
   "cell_type": "code",
   "execution_count": 40,
   "id": "57900ebf",
   "metadata": {},
   "outputs": [
    {
     "data": {
      "text/plain": [
       "True"
      ]
     },
     "execution_count": 40,
     "metadata": {},
     "output_type": "execute_result"
    }
   ],
   "source": [
    "es.indices.exists(index=es_index)"
   ]
  },
  {
   "cell_type": "code",
   "execution_count": null,
   "id": "eb8f8c40",
   "metadata": {},
   "outputs": [],
   "source": [
    "def create_index(index):\n",
    "    \"\"\"\n",
    "    This function will create an index using knn settings\n",
    "    \"\"\"\n",
    "    if not es.indices.exists(index=index):\n",
    "        index_settings = {\n",
    "            \"settings\": {\n",
    "                \"index.knn\": True,\n",
    "                \"index.mapping.total_fields.limit\": \"2000\"\n",
    "            },\n",
    "            \"mappings\": {\n",
    "                \"properties\": {\n",
    "                    \"embeddings\": {\n",
    "                        \"type\": \"knn_vector\",\n",
    "                        \"dimension\": 2048\n",
    "                    }\n",
    "                }\n",
    "            }\n",
    "        }\n",
    "\n",
    "        es.indices.create(index=index, body=json.dumps(index_settings))\n",
    "        print(\"Created the elasticsearch index successufly \")\n",
    "    else:\n",
    "        print(\"elasticsearch index already exists\")"
   ]
  },
  {
   "cell_type": "code",
   "execution_count": null,
   "id": "76047612",
   "metadata": {},
   "outputs": [],
   "source": [
    "es_index"
   ]
  },
  {
   "cell_type": "code",
   "execution_count": null,
   "id": "e65ea213",
   "metadata": {},
   "outputs": [],
   "source": [
    "#Create the index using knn settings\n",
    "create_index(es_index)"
   ]
  },
  {
   "cell_type": "code",
   "execution_count": null,
   "id": "ec78ee4f",
   "metadata": {},
   "outputs": [],
   "source": [
    "# You can check if the index is created within your es cluster\n",
    "es.indices.get_alias(\"*\")"
   ]
  },
  {
   "cell_type": "markdown",
   "id": "84f1bd11",
   "metadata": {},
   "source": [
    "## Load features into OpenSearch"
   ]
  },
  {
   "cell_type": "markdown",
   "id": "7d4dd24f",
   "metadata": {},
   "source": [
    "### Load features from s3"
   ]
  },
  {
   "cell_type": "code",
   "execution_count": 45,
   "id": "3b0d53f7",
   "metadata": {},
   "outputs": [],
   "source": [
    "s3_uris = get_all_s3_keys(bucket, filt='embeddings/resnet')"
   ]
  },
  {
   "cell_type": "code",
   "execution_count": null,
   "id": "163f523a",
   "metadata": {},
   "outputs": [],
   "source": [
    "s3_uris"
   ]
  },
  {
   "cell_type": "code",
   "execution_count": 46,
   "id": "64270611",
   "metadata": {},
   "outputs": [
    {
     "data": {
      "text/plain": [
       "'s3://sagemaker-us-east-1-333209439517/embeddings/resnet50/resnet_vectors_andesite.json'"
      ]
     },
     "execution_count": 46,
     "metadata": {},
     "output_type": "execute_result"
    }
   ],
   "source": [
    "s3_uri = s3_uris[0]\n",
    "s3_uri"
   ]
  },
  {
   "cell_type": "code",
   "execution_count": 47,
   "id": "b8fdcf94",
   "metadata": {},
   "outputs": [
    {
     "data": {
      "text/plain": [
       "'sagemaker-us-east-1-333209439517'"
      ]
     },
     "execution_count": 47,
     "metadata": {},
     "output_type": "execute_result"
    }
   ],
   "source": [
    "bucket"
   ]
  },
  {
   "cell_type": "code",
   "execution_count": 48,
   "id": "5bdd64b2",
   "metadata": {},
   "outputs": [
    {
     "data": {
      "text/plain": [
       "'embeddings/resnet50/resnet_vectors_andesite.json'"
      ]
     },
     "execution_count": 48,
     "metadata": {},
     "output_type": "execute_result"
    }
   ],
   "source": [
    "s3_uri.replace(f's3://{bucket}/', '')"
   ]
  },
  {
   "cell_type": "code",
   "execution_count": 49,
   "id": "02b1d80f",
   "metadata": {},
   "outputs": [],
   "source": [
    "payload = s3.get_object(Bucket=bucket,Key=s3_uri.replace(f's3://{bucket}/', ''))['Body'].read()"
   ]
  },
  {
   "cell_type": "code",
   "execution_count": 50,
   "id": "befee091",
   "metadata": {},
   "outputs": [
    {
     "data": {
      "text/plain": [
       "bytes"
      ]
     },
     "execution_count": 50,
     "metadata": {},
     "output_type": "execute_result"
    }
   ],
   "source": [
    "type(payload)"
   ]
  },
  {
   "cell_type": "code",
   "execution_count": 51,
   "id": "260f3221",
   "metadata": {},
   "outputs": [],
   "source": [
    "data = json.loads(payload.decode('utf8').replace(\"'\", '\"'))"
   ]
  },
  {
   "cell_type": "code",
   "execution_count": 52,
   "id": "7c5d6665",
   "metadata": {},
   "outputs": [
    {
     "data": {
      "text/plain": [
       "dict_keys(['labels', 'filenames', 'features'])"
      ]
     },
     "execution_count": 52,
     "metadata": {},
     "output_type": "execute_result"
    }
   ],
   "source": [
    "data.keys()"
   ]
  },
  {
   "cell_type": "code",
   "execution_count": 53,
   "id": "44cd522d",
   "metadata": {},
   "outputs": [
    {
     "data": {
      "text/plain": [
       "'andesite'"
      ]
     },
     "execution_count": 53,
     "metadata": {},
     "output_type": "execute_result"
    }
   ],
   "source": [
    "data['labels']"
   ]
  },
  {
   "cell_type": "code",
   "execution_count": 54,
   "id": "1fa4f7ff",
   "metadata": {},
   "outputs": [
    {
     "data": {
      "text/plain": [
       "'/mnt/osn3/caceres/classes/geological/geological_similarity/andesite/04ZDG.jpg'"
      ]
     },
     "execution_count": 54,
     "metadata": {},
     "output_type": "execute_result"
    }
   ],
   "source": [
    "data['filenames'][0]"
   ]
  },
  {
   "cell_type": "code",
   "execution_count": 55,
   "id": "aff92c21",
   "metadata": {},
   "outputs": [
    {
     "data": {
      "text/plain": [
       "2048"
      ]
     },
     "execution_count": 55,
     "metadata": {},
     "output_type": "execute_result"
    }
   ],
   "source": [
    "len(eval(data['features'][0]))"
   ]
  },
  {
   "cell_type": "code",
   "execution_count": 56,
   "id": "13c00bce",
   "metadata": {},
   "outputs": [
    {
     "name": "stdout",
     "output_type": "stream",
     "text": [
      "s3://sagemaker-us-east-2-333209439517/geological_similarity/andesite/04ZDG.jpg 2048\n"
     ]
    }
   ],
   "source": [
    "for filename, embeddings in zip(data['filenames'], data['features']):\n",
    "    embeddings = ast.literal_eval(embeddings)\n",
    "    filename = filename.replace('/mnt/osn3/caceres/classes/geological', 's3://sagemaker-us-east-2-333209439517')\n",
    "    print(filename, len(embeddings))\n",
    "    \n",
    "    break\n",
    "    \n",
    "# sagemaker-us-east-2-333209439517/geological_similarity"
   ]
  },
  {
   "cell_type": "code",
   "execution_count": null,
   "id": "bd951cc7",
   "metadata": {},
   "outputs": [],
   "source": [
    "import tqdm"
   ]
  },
  {
   "cell_type": "code",
   "execution_count": null,
   "id": "562b5c0b",
   "metadata": {},
   "outputs": [],
   "source": [
    "\n",
    "def ingest_data_into_es(filt='embeddings/resnet'):\n",
    "    \"\"\"\n",
    "        Ingest pre-calculated vectors into OpenSearch index. \n",
    "        \n",
    "        filt: string filter for keys\n",
    "    \"\"\"\n",
    "    s3_uris = get_all_s3_keys(bucket, filt=filt)\n",
    "\n",
    "    count = 0\n",
    "    lost_records = 0\n",
    "    total = 0\n",
    "    for s3_uri in s3_uris:\n",
    "        payload = s3.get_object(Bucket=bucket,Key=s3_uri.replace(f's3://{bucket}/', ''))['Body'].read()\n",
    "        data = json.loads(payload.decode('utf8').replace(\"'\", '\"'))\n",
    "\n",
    "        for filename, embeddings in tqdm.tqdm(zip(data['filenames'], data['features'])):\n",
    "            try:\n",
    "                embeddings = ast.literal_eval(embeddings)\n",
    "                filename = filename.replace('/mnt/osn3/caceres/classes/geological', 's3://sagemaker-us-east-2-333209439517')\n",
    "\n",
    "                # make record\n",
    "                record = {}\n",
    "                record['id'] = count\n",
    "                record['uri'] = filename\n",
    "                record['embeddings'] = embeddings\n",
    "\n",
    "                # ingest into ES\n",
    "                es.index(index=es_index, id=count, body=record)\n",
    "\n",
    "                count += 1\n",
    "            except Exception as error:\n",
    "                logger.error(f\"An error {error} for record {record}\")\n",
    "                lost_records += 1\n",
    "            \n",
    "            total += 1\n",
    "\n",
    "    print(f'{lost_records} out of {total} are lost records')\n",
    "\n",
    "    print(f'{count} out of {total} records has been processed')\n",
    "\n",
    "    return {\n",
    "        'statusCode': 200,\n",
    "        'body': json.dumps(str(count) + ' records processed.')\n",
    "    }"
   ]
  },
  {
   "cell_type": "code",
   "execution_count": null,
   "id": "f78114b7",
   "metadata": {},
   "outputs": [],
   "source": [
    "data_bucket"
   ]
  },
  {
   "cell_type": "code",
   "execution_count": null,
   "id": "637bcbcc",
   "metadata": {},
   "outputs": [],
   "source": [
    "ingest_data_into_es()"
   ]
  },
  {
   "cell_type": "markdown",
   "id": "b93d15c0",
   "metadata": {},
   "source": [
    "## Check that data is indeed in ES"
   ]
  },
  {
   "cell_type": "code",
   "execution_count": 57,
   "id": "1720fe15",
   "metadata": {},
   "outputs": [],
   "source": [
    "res = es.search(index=es_index, body={\n",
    "                    \"query\": {\n",
    "                            \"match_all\": {}\n",
    "                        }},\n",
    "           size=10)"
   ]
  },
  {
   "cell_type": "code",
   "execution_count": 58,
   "id": "85e51642",
   "metadata": {},
   "outputs": [
    {
     "data": {
      "text/plain": [
       "dict"
      ]
     },
     "execution_count": 58,
     "metadata": {},
     "output_type": "execute_result"
    }
   ],
   "source": [
    "type(res)"
   ]
  },
  {
   "cell_type": "code",
   "execution_count": 59,
   "id": "86d11779",
   "metadata": {},
   "outputs": [
    {
     "data": {
      "text/plain": [
       "dict_keys(['took', 'timed_out', '_shards', 'hits'])"
      ]
     },
     "execution_count": 59,
     "metadata": {},
     "output_type": "execute_result"
    }
   ],
   "source": [
    "res.keys()"
   ]
  },
  {
   "cell_type": "code",
   "execution_count": 60,
   "id": "b786e117",
   "metadata": {},
   "outputs": [
    {
     "data": {
      "text/plain": [
       "26"
      ]
     },
     "execution_count": 60,
     "metadata": {},
     "output_type": "execute_result"
    }
   ],
   "source": [
    "res['took']"
   ]
  },
  {
   "cell_type": "code",
   "execution_count": 61,
   "id": "686cbd20",
   "metadata": {},
   "outputs": [
    {
     "data": {
      "text/plain": [
       "False"
      ]
     },
     "execution_count": 61,
     "metadata": {},
     "output_type": "execute_result"
    }
   ],
   "source": [
    "res['timed_out']"
   ]
  },
  {
   "cell_type": "code",
   "execution_count": 62,
   "id": "a322ca2d",
   "metadata": {},
   "outputs": [
    {
     "data": {
      "text/plain": [
       "{'total': 5, 'successful': 5, 'skipped': 0, 'failed': 0}"
      ]
     },
     "execution_count": 62,
     "metadata": {},
     "output_type": "execute_result"
    }
   ],
   "source": [
    "res['_shards']"
   ]
  },
  {
   "cell_type": "code",
   "execution_count": 63,
   "id": "390e0a4e",
   "metadata": {},
   "outputs": [
    {
     "data": {
      "text/plain": [
       "dict_keys(['total', 'max_score', 'hits'])"
      ]
     },
     "execution_count": 63,
     "metadata": {},
     "output_type": "execute_result"
    }
   ],
   "source": [
    "res['hits'].keys()"
   ]
  },
  {
   "cell_type": "code",
   "execution_count": 71,
   "id": "7aa208ae",
   "metadata": {},
   "outputs": [
    {
     "data": {
      "text/plain": [
       "10"
      ]
     },
     "execution_count": 71,
     "metadata": {},
     "output_type": "execute_result"
    }
   ],
   "source": [
    "len(res['hits']['hits'])"
   ]
  },
  {
   "cell_type": "code",
   "execution_count": 64,
   "id": "ae033ba3",
   "metadata": {},
   "outputs": [
    {
     "data": {
      "text/plain": [
       "dict_keys(['_index', '_type', '_id', '_score', '_source'])"
      ]
     },
     "execution_count": 64,
     "metadata": {},
     "output_type": "execute_result"
    }
   ],
   "source": [
    "res['hits']['hits'][0].keys()"
   ]
  },
  {
   "cell_type": "code",
   "execution_count": 65,
   "id": "0c632ef5",
   "metadata": {},
   "outputs": [
    {
     "data": {
      "text/plain": [
       "'knn-test-1'"
      ]
     },
     "execution_count": 65,
     "metadata": {},
     "output_type": "execute_result"
    }
   ],
   "source": [
    "res['hits']['hits'][0]['_index']"
   ]
  },
  {
   "cell_type": "code",
   "execution_count": 66,
   "id": "b247bdd2",
   "metadata": {},
   "outputs": [
    {
     "data": {
      "text/plain": [
       "'_doc'"
      ]
     },
     "execution_count": 66,
     "metadata": {},
     "output_type": "execute_result"
    }
   ],
   "source": [
    "res['hits']['hits'][0]['_type']"
   ]
  },
  {
   "cell_type": "code",
   "execution_count": 67,
   "id": "e101c6d6",
   "metadata": {},
   "outputs": [
    {
     "data": {
      "text/plain": [
       "'3'"
      ]
     },
     "execution_count": 67,
     "metadata": {},
     "output_type": "execute_result"
    }
   ],
   "source": [
    "res['hits']['hits'][0]['_id']"
   ]
  },
  {
   "cell_type": "code",
   "execution_count": 68,
   "id": "ba1eaae9",
   "metadata": {},
   "outputs": [
    {
     "data": {
      "text/plain": [
       "1.0"
      ]
     },
     "execution_count": 68,
     "metadata": {},
     "output_type": "execute_result"
    }
   ],
   "source": [
    "res['hits']['hits'][0]['_score']"
   ]
  },
  {
   "cell_type": "code",
   "execution_count": 69,
   "id": "67e9cd0b",
   "metadata": {},
   "outputs": [
    {
     "data": {
      "text/plain": [
       "2048"
      ]
     },
     "execution_count": 69,
     "metadata": {},
     "output_type": "execute_result"
    }
   ],
   "source": [
    "len(res['hits']['hits'][0]['_source']['embeddings'])"
   ]
  },
  {
   "cell_type": "code",
   "execution_count": 70,
   "id": "2f2506b4",
   "metadata": {},
   "outputs": [
    {
     "data": {
      "text/plain": [
       "'s3://sagemaker-us-east-2-333209439517/geological_similarity/andesite/0UHNC.jpg'"
      ]
     },
     "execution_count": 70,
     "metadata": {},
     "output_type": "execute_result"
    }
   ],
   "source": [
    "res['hits']['hits'][0]['_source']['uri']"
   ]
  },
  {
   "cell_type": "markdown",
   "id": "2ce70acf",
   "metadata": {},
   "source": [
    "## Query with embeddings"
   ]
  },
  {
   "cell_type": "code",
   "execution_count": 93,
   "id": "b0056e81",
   "metadata": {},
   "outputs": [
    {
     "name": "stdout",
     "output_type": "stream",
     "text": [
      "s3://sagemaker-us-east-2-333209439517/geological_similarity/andesite/M6Y4C.jpg\n"
     ]
    }
   ],
   "source": [
    "ii = 5\n",
    "print(res['hits']['hits'][ii]['_source']['uri'])\n",
    "query_embeddings = res['hits']['hits'][ii]['_source']['embeddings']\n",
    "num_similar_images = 10"
   ]
  },
  {
   "cell_type": "code",
   "execution_count": null,
   "id": "c163b3f8",
   "metadata": {},
   "outputs": [],
   "source": []
  },
  {
   "cell_type": "code",
   "execution_count": null,
   "id": "98ae0ab6",
   "metadata": {},
   "outputs": [],
   "source": []
  },
  {
   "cell_type": "code",
   "execution_count": 98,
   "id": "973e733c",
   "metadata": {},
   "outputs": [
    {
     "data": {
      "text/plain": [
       "'s3://sagemaker-us-east-2-333209439517/geological_similarity/andesite/012L6.jpg'"
      ]
     },
     "execution_count": 98,
     "metadata": {},
     "output_type": "execute_result"
    }
   ],
   "source": [
    "s3_uri = s3_uris[0]\n",
    "s3_uri"
   ]
  },
  {
   "cell_type": "code",
   "execution_count": 99,
   "id": "322033be",
   "metadata": {},
   "outputs": [
    {
     "data": {
      "image/png": "[encoded data removed]",
      "text/plain": [
       "<PIL.JpegImagePlugin.JpegImageFile image mode=RGB size=28x28 at 0x7F46C41D2AC8>"
      ]
     },
     "execution_count": 99,
     "metadata": {},
     "output_type": "execute_result"
    }
   ],
   "source": [
    "payload = s3.get_object(Bucket=data_bucket,\n",
    "                        Key=s3_uri.replace(f's3://{data_bucket}/', ''))['Body'].read()"
   ]
  },
  {
   "cell_type": "code",
   "execution_count": 100,
   "id": "84b69ba7",
   "metadata": {},
   "outputs": [
    {
     "data": {
      "image/png": "[encoded data removed]",
      "text/plain": [
       "<PIL.JpegImagePlugin.JpegImageFile image mode=RGB size=28x28 at 0x7F46CA3EF208>"
      ]
     },
     "execution_count": 100,
     "metadata": {},
     "output_type": "execute_result"
    }
   ],
   "source": [
    "im_file = BytesIO(payload)  # convert image to file-like object\n",
    "im = Image.open(im_file)   # img is now PIL Image object\n",
    "\n",
    "im"
   ]
  },
  {
   "cell_type": "code",
   "execution_count": 102,
   "id": "d3c05345",
   "metadata": {},
   "outputs": [],
   "source": [
    "data = BytesIO()\n",
    "im.save(data, \"JPEG\")\n",
    "enc_img = base64.b64encode(data.getvalue())\n",
    "dec_img = enc_img.decode('utf-8')\n",
    "\n",
    "response = sm_client.invoke_endpoint(EndpointName=ENDPOINT_NAME, \n",
    "                                     Body=json.dumps({'inputs':encoded_image}),\n",
    "                                     ContentType='application/json') \n",
    "\n",
    "# get response\n",
    "response_body = json.loads((response['Body'].read())) \n",
    "# reshape to list of len=2048\n",
    "feature_lst = list(np.array(response_body).reshape(-1))"
   ]
  },
  {
   "cell_type": "code",
   "execution_count": 105,
   "id": "1afdc68a",
   "metadata": {},
   "outputs": [],
   "source": [
    "es_query ={\n",
    "            \"query\": {\n",
    "                \"knn\": {\n",
    "                    \"embeddings\": {\n",
    "                        \"vector\": feature_lst,\n",
    "                        \"k\": num_similar_images\n",
    "                    }\n",
    "                }\n",
    "            }\n",
    "    }\n",
    "\n",
    "res = es.search(index=es_index, body=es_query, size=num_similar_images)\n",
    "\n"
   ]
  },
  {
   "cell_type": "code",
   "execution_count": 106,
   "id": "25bc374f",
   "metadata": {},
   "outputs": [
    {
     "name": "stdout",
     "output_type": "stream",
     "text": [
      "s3://sagemaker-us-east-2-333209439517/geological_similarity/andesite/GIT6O.jpg 8.047047e-08\n",
      "s3://sagemaker-us-east-2-333209439517/geological_similarity/quartzite/OCS4T.jpg 8.046997e-08\n",
      "s3://sagemaker-us-east-2-333209439517/geological_similarity/quartzite/SW3G3.jpg 8.046503e-08\n",
      "s3://sagemaker-us-east-2-333209439517/geological_similarity/andesite/6AV7O.jpg 8.045585e-08\n",
      "s3://sagemaker-us-east-2-333209439517/geological_similarity/andesite/1T6J6.jpg 8.044808e-08\n",
      "s3://sagemaker-us-east-2-333209439517/geological_similarity/andesite/66KQ0.jpg 8.04403e-08\n",
      "s3://sagemaker-us-east-2-333209439517/geological_similarity/andesite/QSC9X.jpg 8.042869e-08\n",
      "s3://sagemaker-us-east-2-333209439517/geological_similarity/andesite/URW7A.jpg 8.0427895e-08\n",
      "s3://sagemaker-us-east-2-333209439517/geological_similarity/quartzite/N2ZC5.jpg 8.0422964e-08\n",
      "s3://sagemaker-us-east-2-333209439517/geological_similarity/andesite/N8FGX.jpg 8.0422694e-08\n"
     ]
    }
   ],
   "source": [
    "for hit in res['hits']['hits']:\n",
    "    print(hit['_source']['uri'], hit['_score'])"
   ]
  },
  {
   "cell_type": "code",
   "execution_count": null,
   "id": "43c7bd4d",
   "metadata": {},
   "outputs": [],
   "source": [
    "query_embeddings"
   ]
  }
 ],
 "metadata": {
  "kernelspec": {
   "display_name": "conda_pytorch_p36",
   "language": "python",
   "name": "conda_pytorch_p36"
  },
  "language_info": {
   "codemirror_mode": {
    "name": "ipython",
    "version": 3
   },
   "file_extension": ".py",
   "mimetype": "text/x-python",
   "name": "python",
   "nbconvert_exporter": "python",
   "pygments_lexer": "ipython3",
   "version": "3.6.13"
  }
 },
 "nbformat": 4,
 "nbformat_minor": 5
}
