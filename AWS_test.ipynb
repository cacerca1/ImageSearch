{
 "cells": [
  {
   "cell_type": "code",
   "execution_count": 1,
   "id": "7278937c",
   "metadata": {},
   "outputs": [],
   "source": [
    "import glob\n",
    "import os\n",
    "import numpy as np\n",
    "from PIL import Image\n",
    "import matplotlib.pyplot as plt\n",
    "import random\n",
    "import seaborn as sn\n",
    "import boto3\n",
    "import re\n",
    "from io import BytesIO\n",
    "import base64\n",
    "# import tqdm\n",
    "import ast\n",
    "import sagemaker\n",
    "import time\n",
    "import json\n",
    "\n",
    "import torch\n",
    "import torch.nn as nn\n",
    "import torchvision.models as models\n",
    "from torch.autograd import Variable\n",
    "from torchvision import transforms"
   ]
  },
  {
   "cell_type": "code",
   "execution_count": 2,
   "id": "484c44a5",
   "metadata": {},
   "outputs": [],
   "source": [
    "from sagemaker.utils import name_from_base"
   ]
  },
  {
   "cell_type": "code",
   "execution_count": null,
   "id": "fbd5dec2",
   "metadata": {},
   "outputs": [],
   "source": []
  },
  {
   "cell_type": "code",
   "execution_count": 3,
   "id": "346d7a27",
   "metadata": {},
   "outputs": [],
   "source": [
    "role = sagemaker.get_execution_role()\n",
    "sess = sagemaker.Session()\n",
    "region = sess.boto_region_name\n",
    "bucket = sess.default_bucket()"
   ]
  },
  {
   "cell_type": "markdown",
   "id": "b9777f33",
   "metadata": {},
   "source": [
    "# Herlper functions"
   ]
  },
  {
   "cell_type": "code",
   "execution_count": 4,
   "id": "880be8f3",
   "metadata": {},
   "outputs": [],
   "source": [
    "#return all s3 keys\n",
    "def get_all_s3_keys(bucket, filt=None):\n",
    "    \"\"\"Get a list of all keys in an S3 bucket.\"\"\"    \n",
    "    keys = []\n",
    "\n",
    "    kwargs = {'Bucket': bucket}\n",
    "    while True:\n",
    "        resp = s3.list_objects_v2(**kwargs)\n",
    "        for obj in resp['Contents']:\n",
    "            key = obj['Key']\n",
    "            if filt is not None:\n",
    "                if filt not in key:\n",
    "                    continue\n",
    "            keys.append('s3://' + bucket + '/' + key)\n",
    "\n",
    "        try:\n",
    "            kwargs['ContinuationToken'] = resp['NextContinuationToken']\n",
    "        except KeyError:\n",
    "            break\n",
    "\n",
    "    return keys"
   ]
  },
  {
   "cell_type": "markdown",
   "id": "356e60c9",
   "metadata": {},
   "source": [
    "# Make Model"
   ]
  },
  {
   "cell_type": "code",
   "execution_count": null,
   "id": "18990636",
   "metadata": {},
   "outputs": [],
   "source": [
    "\n",
    "resnet50 = models.resnet50(pretrained=True)\n",
    "\n",
    "_ = resnet50.eval()\n",
    "# _ = resnet50.cuda()\n",
    "\n",
    "modules=list(resnet50.children())[:-1]\n",
    "resnet50=nn.Sequential(*modules)\n",
    "for p in resnet50.parameters():\n",
    "    p.requires_grad = False\n",
    "\n",
    "transform = transforms.Compose([transforms.ToTensor()])\n",
    "\n",
    "device = torch.device('cuda:0' if torch.cuda.is_available() else \"cpu\")\n",
    "\n",
    "resnet50 = resnet50.to(device)\n",
    "\n",
    "device\n"
   ]
  },
  {
   "cell_type": "markdown",
   "id": "2a486a2b",
   "metadata": {},
   "source": [
    "# Test model with a single image"
   ]
  },
  {
   "cell_type": "code",
   "execution_count": 5,
   "id": "2ebb06c7",
   "metadata": {},
   "outputs": [],
   "source": [
    "s3 = boto3.client('s3')"
   ]
  },
  {
   "cell_type": "code",
   "execution_count": null,
   "id": "0c63e91f",
   "metadata": {},
   "outputs": [],
   "source": [
    "data_bucket = 'sagemaker-us-east-2-333209439517'"
   ]
  },
  {
   "cell_type": "code",
   "execution_count": null,
   "id": "e2ef05d5",
   "metadata": {},
   "outputs": [],
   "source": [
    "s3_uris = get_all_s3_keys(data_bucket, filt='jpg')\n",
    "\n",
    "s3_uris[0], len(s3_uris)"
   ]
  },
  {
   "cell_type": "code",
   "execution_count": null,
   "id": "fded684a",
   "metadata": {},
   "outputs": [],
   "source": [
    "s3_uri = s3_uris[0]\n",
    "s3_uri"
   ]
  },
  {
   "cell_type": "code",
   "execution_count": null,
   "id": "66d5f310",
   "metadata": {},
   "outputs": [],
   "source": [
    "# s3_uri = 's3://sagemaker-us-east-2-333209439517/geological_similarity/andesite/012L6.jpg'"
   ]
  },
  {
   "cell_type": "code",
   "execution_count": null,
   "id": "8663aef4",
   "metadata": {},
   "outputs": [],
   "source": [
    "payload = s3.get_object(Bucket=data_bucket,Key=s3_uri.replace(f's3://{data_bucket}/', ''))['Body'].read()"
   ]
  },
  {
   "cell_type": "code",
   "execution_count": null,
   "id": "f371b5e3",
   "metadata": {},
   "outputs": [],
   "source": [
    "im_file = BytesIO(payload)  # convert image to file-like object\n",
    "img = Image.open(im_file)   # img is now PIL Image object\n",
    "\n",
    "img"
   ]
  },
  {
   "cell_type": "code",
   "execution_count": null,
   "id": "f1de0a70",
   "metadata": {},
   "outputs": [],
   "source": [
    "im = np.asarray(img)# convert image to numpy array"
   ]
  },
  {
   "cell_type": "code",
   "execution_count": null,
   "id": "cb5cc7ab",
   "metadata": {},
   "outputs": [],
   "source": [
    "im.shape"
   ]
  },
  {
   "cell_type": "code",
   "execution_count": null,
   "id": "f8c30ce8",
   "metadata": {},
   "outputs": [],
   "source": [
    "im = np.moveaxis(im, -1, 0)"
   ]
  },
  {
   "cell_type": "code",
   "execution_count": null,
   "id": "16738d15",
   "metadata": {},
   "outputs": [],
   "source": [
    "im.shape"
   ]
  },
  {
   "cell_type": "code",
   "execution_count": null,
   "id": "6c4c6a46",
   "metadata": {},
   "outputs": [],
   "source": [
    "img = transform(im) # convert to tensor\n",
    "#img = img.reshape(1,3,28,28)\n",
    "img = torch.unsqueeze(img, 0)\n",
    "img = img.to(device)\n"
   ]
  },
  {
   "cell_type": "code",
   "execution_count": null,
   "id": "73fc33ea",
   "metadata": {},
   "outputs": [],
   "source": [
    "img.shape"
   ]
  },
  {
   "cell_type": "code",
   "execution_count": null,
   "id": "3fd99e72",
   "metadata": {},
   "outputs": [],
   "source": [
    "\n",
    "with torch.no_grad():\n",
    "    feature = resnet50(img)\n",
    "\n",
    "feature = feature.cpu().detach().numpy().reshape(-1)\n",
    "\n",
    "feature.shape"
   ]
  },
  {
   "cell_type": "code",
   "execution_count": null,
   "id": "7c056b1c",
   "metadata": {},
   "outputs": [],
   "source": []
  },
  {
   "cell_type": "markdown",
   "id": "58d00faa",
   "metadata": {},
   "source": [
    "# Save model to s3"
   ]
  },
  {
   "cell_type": "code",
   "execution_count": null,
   "id": "caa9a5f6",
   "metadata": {},
   "outputs": [],
   "source": [
    "img.shape"
   ]
  },
  {
   "cell_type": "code",
   "execution_count": null,
   "id": "8ccc1a19",
   "metadata": {},
   "outputs": [],
   "source": [
    "import tarfile"
   ]
  },
  {
   "cell_type": "code",
   "execution_count": null,
   "id": "2ac77ac3",
   "metadata": {},
   "outputs": [],
   "source": [
    "input_shape = [1, 3, 28, 28]\n",
    "trace = torch.jit.trace(resnet50.float().eval(), torch.zeros(input_shape).float())"
   ]
  },
  {
   "cell_type": "code",
   "execution_count": null,
   "id": "e8f61fa3",
   "metadata": {},
   "outputs": [],
   "source": [
    "trace.save(\"model.pth\")"
   ]
  },
  {
   "cell_type": "code",
   "execution_count": null,
   "id": "38103b9f",
   "metadata": {},
   "outputs": [],
   "source": [
    "with tarfile.open(\"model.tar.gz\", \"w:gz\") as f:\n",
    "    f.add(\"model.pth\")"
   ]
  },
  {
   "cell_type": "code",
   "execution_count": null,
   "id": "38e914f9",
   "metadata": {},
   "outputs": [],
   "source": [
    "bucket"
   ]
  },
  {
   "cell_type": "code",
   "execution_count": null,
   "id": "794e059f",
   "metadata": {},
   "outputs": [],
   "source": [
    "compilation_job_name = name_from_base(\"TorchVision-ResNet50\")\n",
    "prefix = compilation_job_name + \"/model\""
   ]
  },
  {
   "cell_type": "code",
   "execution_count": null,
   "id": "68d82a0b",
   "metadata": {},
   "outputs": [],
   "source": [
    "compilation_job_name, prefix"
   ]
  },
  {
   "cell_type": "code",
   "execution_count": null,
   "id": "0be308a0",
   "metadata": {},
   "outputs": [],
   "source": [
    "model_path = sess.upload_data(path=\"model.tar.gz\", key_prefix=prefix)"
   ]
  },
  {
   "cell_type": "code",
   "execution_count": null,
   "id": "efa694cf",
   "metadata": {},
   "outputs": [],
   "source": [
    "model_path = 's3://sagemaker-us-east-1-333209439517/TorchVision-ResNet50-2021-09-13-00-30-10-117/model/model.tar.gz'"
   ]
  },
  {
   "cell_type": "markdown",
   "id": "9a6589d0",
   "metadata": {},
   "source": [
    "# Deploy model"
   ]
  },
  {
   "cell_type": "code",
   "execution_count": null,
   "id": "480bf209",
   "metadata": {},
   "outputs": [],
   "source": [
    "import sagemaker\n",
    "from sagemaker.pytorch import PyTorchModel\n",
    "from sagemaker import get_execution_role, Session"
   ]
  },
  {
   "cell_type": "code",
   "execution_count": null,
   "id": "ddfdbc92",
   "metadata": {},
   "outputs": [],
   "source": [
    "role"
   ]
  },
  {
   "cell_type": "code",
   "execution_count": null,
   "id": "246e2718",
   "metadata": {},
   "outputs": [],
   "source": [
    "predictor.delete_endpoint()"
   ]
  },
  {
   "cell_type": "code",
   "execution_count": null,
   "id": "df4a2ced",
   "metadata": {},
   "outputs": [],
   "source": [
    "model = PyTorchModel(\n",
    "    entry_point=\"inference.py\",\n",
    "    source_dir=\"code\",\n",
    "    role=role,\n",
    "    model_data=model_path,\n",
    "    framework_version=\"1.5.0\",\n",
    "    py_version=\"py3\",\n",
    ")"
   ]
  },
  {
   "cell_type": "code",
   "execution_count": null,
   "id": "d7bed114",
   "metadata": {},
   "outputs": [],
   "source": [
    "# SageMakerFullAccess - policy is a managed policy that includes all the necessary permissions required to perform most actions on SageMaker"
   ]
  },
  {
   "cell_type": "code",
   "execution_count": null,
   "id": "4ea4440f",
   "metadata": {},
   "outputs": [],
   "source": [
    "from sagemaker.serializers import JSONSerializer\n",
    "from sagemaker.deserializers import JSONDeserializer\n",
    "\n",
    "# set local_mode to False if you want to deploy on a remote\n",
    "# SageMaker instance\n",
    "\n",
    "local_mode = False\n",
    "\n",
    "if local_mode:\n",
    "    instance_type = \"local\"\n",
    "else:\n",
    "    instance_type = \"ml.t2.medium\" #\"ml.c4.xlarge\"\n",
    "\n",
    "predictor = model.deploy(\n",
    "    initial_instance_count=1,\n",
    "    instance_type=instance_type,\n",
    "    serializer=JSONSerializer(),\n",
    "    deserializer=JSONDeserializer(),\n",
    ")"
   ]
  },
  {
   "cell_type": "code",
   "execution_count": null,
   "id": "05469a3a",
   "metadata": {},
   "outputs": [],
   "source": [
    "predictor.__dict__"
   ]
  },
  {
   "cell_type": "code",
   "execution_count": null,
   "id": "0a0d0049",
   "metadata": {},
   "outputs": [],
   "source": [
    "predictor.endpoint_name"
   ]
  },
  {
   "cell_type": "code",
   "execution_count": null,
   "id": "e2c10716",
   "metadata": {},
   "outputs": [],
   "source": [
    "predictor.content_type, predictor.serializer, predictor.deserializer"
   ]
  },
  {
   "cell_type": "code",
   "execution_count": null,
   "id": "e40e390f",
   "metadata": {},
   "outputs": [],
   "source": [
    "encoded_image = base64.b64encode(payload).decode('utf-8')\n",
    "req = {'inputs':encoded_image}"
   ]
  },
  {
   "cell_type": "code",
   "execution_count": null,
   "id": "2c6382aa",
   "metadata": {},
   "outputs": [],
   "source": [
    "im_bytes = base64.b64decode(encoded_image)   # im_bytes is a binary image\n",
    "im_file = BytesIO(im_bytes)  # convert image to file-like object\n",
    "image = Image.open(im_file)   # img is now PIL Image object\n",
    "im = np.asarray(image)# convert image to numpy array\n",
    "print(im.shape)\n",
    "image"
   ]
  },
  {
   "cell_type": "markdown",
   "id": "e9efb257",
   "metadata": {},
   "source": [
    "## Predict using 'predict' function"
   ]
  },
  {
   "cell_type": "code",
   "execution_count": null,
   "id": "f0fefef3",
   "metadata": {},
   "outputs": [],
   "source": [
    "res = predictor.predict(req)"
   ]
  },
  {
   "cell_type": "code",
   "execution_count": null,
   "id": "a901e55f",
   "metadata": {},
   "outputs": [],
   "source": [
    "embedding = np.array(res).reshape(-1)"
   ]
  },
  {
   "cell_type": "code",
   "execution_count": null,
   "id": "2ced4133",
   "metadata": {},
   "outputs": [],
   "source": [
    "embedding.shape"
   ]
  },
  {
   "cell_type": "code",
   "execution_count": null,
   "id": "ede5e1cd",
   "metadata": {},
   "outputs": [],
   "source": [
    "ENDPOINT_NAME = predictor.endpoint_name"
   ]
  },
  {
   "cell_type": "markdown",
   "id": "62740e0b",
   "metadata": {},
   "source": [
    "## Predict using 'invoke_endpoint'"
   ]
  },
  {
   "cell_type": "code",
   "execution_count": null,
   "id": "2a1931a6",
   "metadata": {},
   "outputs": [],
   "source": [
    "# define a function to extract image features\n",
    "from time import sleep \n",
    "\n",
    "sm_client = boto3.client('sagemaker-runtime')"
   ]
  },
  {
   "cell_type": "code",
   "execution_count": null,
   "id": "4d52b1b7",
   "metadata": {},
   "outputs": [],
   "source": [
    "ENDPOINT_NAME = 'pytorch-inference-2021-09-13-14-49-32-180'"
   ]
  },
  {
   "cell_type": "code",
   "execution_count": null,
   "id": "61905b8a",
   "metadata": {},
   "outputs": [],
   "source": [
    "resp = sm_client.invoke_endpoint(EndpointName=ENDPOINT_NAME, Body=json.dumps(req),ContentType='application/json') \n",
    "embedding = json.loads((resp['Body'].read()))\n",
    "embedding = list(np.array(embedding).reshape(-1))"
   ]
  },
  {
   "cell_type": "code",
   "execution_count": null,
   "id": "612d95b7",
   "metadata": {},
   "outputs": [],
   "source": [
    "len(embedding)"
   ]
  },
  {
   "cell_type": "markdown",
   "id": "e6815acf",
   "metadata": {},
   "source": [
    "## Utility functions for prediction on an s3 object"
   ]
  },
  {
   "cell_type": "code",
   "execution_count": null,
   "id": "e7490ee2",
   "metadata": {},
   "outputs": [],
   "source": [
    "def get_predictions(payload): \n",
    "    return sm_client.invoke_endpoint(EndpointName=ENDPOINT_NAME, \n",
    "                                     Body=payload,\n",
    "                                     ContentType='application/json') \n",
    "\n",
    "def extract_features(s3_uri, bucket): \n",
    "    key = s3_uri.replace(f's3://{bucket}/', '') \n",
    "    payload = s3.get_object(Bucket=bucket,Key=key)['Body'].read() \n",
    "\n",
    "    sleep(0.1) \n",
    "    \n",
    "    # get image in base64 format\n",
    "    encoded_image = base64.b64encode(payload).decode('utf-8')\n",
    "    # get predictions\n",
    "    response = get_predictions(json.dumps({'inputs':encoded_image})) \n",
    "    # get response\n",
    "    response_body = json.loads((response['Body'].read())) \n",
    "    # reshape to list of len=2048\n",
    "    feature_lst = list(np.array(response_body).reshape(-1))\n",
    "    \n",
    "    return s3_uri, feature_lst"
   ]
  },
  {
   "cell_type": "markdown",
   "id": "d14f80f4",
   "metadata": {},
   "source": [
    "## Get features for all images"
   ]
  },
  {
   "cell_type": "code",
   "execution_count": null,
   "id": "315becd7",
   "metadata": {},
   "outputs": [],
   "source": [
    "s3_uri = s3_uris[0]\n",
    "s3_uri"
   ]
  },
  {
   "cell_type": "code",
   "execution_count": null,
   "id": "787b5af8",
   "metadata": {},
   "outputs": [],
   "source": [
    "uri, features = extract_features(s3_uri, data_bucket)"
   ]
  },
  {
   "cell_type": "code",
   "execution_count": null,
   "id": "06328685",
   "metadata": {},
   "outputs": [],
   "source": [
    "uri"
   ]
  },
  {
   "cell_type": "code",
   "execution_count": null,
   "id": "2e7f88ef",
   "metadata": {},
   "outputs": [],
   "source": [
    "len(features)"
   ]
  },
  {
   "cell_type": "code",
   "execution_count": null,
   "id": "01f8f139",
   "metadata": {},
   "outputs": [],
   "source": [
    "s3_resource = boto3.resource('s3')"
   ]
  },
  {
   "cell_type": "code",
   "execution_count": null,
   "id": "6d908047",
   "metadata": {},
   "outputs": [],
   "source": [
    "s3_resource"
   ]
  },
  {
   "cell_type": "code",
   "execution_count": null,
   "id": "62e8ae74",
   "metadata": {},
   "outputs": [],
   "source": [
    "bucket"
   ]
  },
  {
   "cell_type": "code",
   "execution_count": null,
   "id": "16a9f395",
   "metadata": {},
   "outputs": [],
   "source": [
    "all_features = []\n",
    "for s3_uri in s3_uris:\n",
    "    _, features = extract_features(s3_uri, data_bucket)\n",
    "    all_features.append(features)"
   ]
  },
  {
   "cell_type": "code",
   "execution_count": null,
   "id": "0346b055",
   "metadata": {},
   "outputs": [],
   "source": [
    "print(len(all_features))"
   ]
  },
  {
   "cell_type": "code",
   "execution_count": null,
   "id": "bef700d8",
   "metadata": {},
   "outputs": [],
   "source": [
    "f2 = [str(x) for x in all_features]"
   ]
  },
  {
   "cell_type": "code",
   "execution_count": null,
   "id": "6ef75872",
   "metadata": {},
   "outputs": [],
   "source": [
    "f2[0]"
   ]
  },
  {
   "cell_type": "code",
   "execution_count": null,
   "id": "ae28f96e",
   "metadata": {},
   "outputs": [],
   "source": [
    "data = {'uris':s3_uris, 'features':all_features}"
   ]
  },
  {
   "cell_type": "code",
   "execution_count": null,
   "id": "0c0d7e61",
   "metadata": {},
   "outputs": [],
   "source": [
    "s3object = s3_resource.Object(bucket, 'embeddings/resnet50_pretrained_features.json')\n",
    "s3object.put(Body=(bytes(json.dumps(data).encode('UTF-8'))))"
   ]
  },
  {
   "cell_type": "code",
   "execution_count": null,
   "id": "2ce7a9ce",
   "metadata": {},
   "outputs": [],
   "source": [
    "bucket"
   ]
  },
  {
   "cell_type": "code",
   "execution_count": null,
   "id": "231c2977",
   "metadata": {},
   "outputs": [],
   "source": [
    "import json\n",
    "import boto3\n",
    "\n",
    "s3 = boto3.client('s3')\n",
    "data = 'your_json_object here'\n",
    "s3.put_object(\n",
    "     Body=str(json.dumps(data))\n",
    "     Bucket='your_bucket_name'\n",
    "     Key='your_key_here'\n",
    ")"
   ]
  },
  {
   "cell_type": "code",
   "execution_count": null,
   "id": "e8ba6643",
   "metadata": {},
   "outputs": [],
   "source": [
    "np_feats = np.array(all_fe)"
   ]
  },
  {
   "cell_type": "markdown",
   "id": "7f062599",
   "metadata": {},
   "source": [
    "# Connect to Elasticsearch"
   ]
  },
  {
   "cell_type": "code",
   "execution_count": 23,
   "id": "25ec6f94",
   "metadata": {},
   "outputs": [
    {
     "name": "stdout",
     "output_type": "stream",
     "text": [
      "Collecting requests_aws4auth\n",
      "  Downloading requests_aws4auth-1.1.1-py2.py3-none-any.whl (31 kB)\n",
      "Requirement already satisfied: requests in /home/ec2-user/anaconda3/envs/pytorch_p36/lib/python3.6/site-packages (from requests_aws4auth) (2.25.1)\n",
      "Requirement already satisfied: six in /home/ec2-user/anaconda3/envs/pytorch_p36/lib/python3.6/site-packages (from requests_aws4auth) (1.16.0)\n",
      "Requirement already satisfied: urllib3<1.27,>=1.21.1 in /home/ec2-user/anaconda3/envs/pytorch_p36/lib/python3.6/site-packages (from requests->requests_aws4auth) (1.26.5)\n",
      "Requirement already satisfied: idna<3,>=2.5 in /home/ec2-user/anaconda3/envs/pytorch_p36/lib/python3.6/site-packages (from requests->requests_aws4auth) (2.10)\n",
      "Requirement already satisfied: certifi>=2017.4.17 in /home/ec2-user/anaconda3/envs/pytorch_p36/lib/python3.6/site-packages (from requests->requests_aws4auth) (2021.5.30)\n",
      "Requirement already satisfied: chardet<5,>=3.0.2 in /home/ec2-user/anaconda3/envs/pytorch_p36/lib/python3.6/site-packages (from requests->requests_aws4auth) (4.0.0)\n",
      "Installing collected packages: requests-aws4auth\n",
      "Successfully installed requests-aws4auth-1.1.1\n",
      "\u001b[33mWARNING: You are using pip version 21.1.3; however, version 21.2.4 is available.\n",
      "You should consider upgrading via the '/home/ec2-user/anaconda3/envs/pytorch_p36/bin/python -m pip install --upgrade pip' command.\u001b[0m\n",
      "Collecting elasticsearch==7.13.4\n",
      "  Downloading elasticsearch-7.13.4-py2.py3-none-any.whl (356 kB)\n",
      "\u001b[K     |████████████████████████████████| 356 kB 30.5 MB/s eta 0:00:01\n",
      "\u001b[?25hRequirement already satisfied: urllib3<2,>=1.21.1 in /home/ec2-user/anaconda3/envs/pytorch_p36/lib/python3.6/site-packages (from elasticsearch==7.13.4) (1.26.5)\n",
      "Requirement already satisfied: certifi in /home/ec2-user/anaconda3/envs/pytorch_p36/lib/python3.6/site-packages (from elasticsearch==7.13.4) (2021.5.30)\n",
      "Installing collected packages: elasticsearch\n",
      "Successfully installed elasticsearch-7.13.4\n",
      "\u001b[33mWARNING: You are using pip version 21.1.3; however, version 21.2.4 is available.\n",
      "You should consider upgrading via the '/home/ec2-user/anaconda3/envs/pytorch_p36/bin/python -m pip install --upgrade pip' command.\u001b[0m\n"
     ]
    }
   ],
   "source": [
    "!pip install requests_aws4auth\n",
    "!pip install elasticsearch=='7.13.4' #https://opensearch.org/docs/clients/index/"
   ]
  },
  {
   "cell_type": "code",
   "execution_count": null,
   "id": "927b33d7",
   "metadata": {},
   "outputs": [],
   "source": [
    "# !pip install  nltk\n",
    "# !pip install jsonlines\n",
    "# !pip install pandarallel\n",
    "# !pip install --upgrade grpcio \n",
    "# !pip install --upgrade s3fs\n"
   ]
  },
  {
   "cell_type": "code",
   "execution_count": 24,
   "id": "183e0809",
   "metadata": {},
   "outputs": [],
   "source": [
    "from requests_aws4auth import AWS4Auth\n",
    "from elasticsearch import Elasticsearch, RequestsHttpConnection"
   ]
  },
  {
   "cell_type": "code",
   "execution_count": 25,
   "id": "a87ffc2c",
   "metadata": {},
   "outputs": [],
   "source": [
    "import elasticsearch"
   ]
  },
  {
   "cell_type": "code",
   "execution_count": 26,
   "id": "08ccaf31",
   "metadata": {},
   "outputs": [
    {
     "data": {
      "text/plain": [
       "(7, 13, 4)"
      ]
     },
     "execution_count": 26,
     "metadata": {},
     "output_type": "execute_result"
    }
   ],
   "source": [
    "elasticsearch.__version__"
   ]
  },
  {
   "cell_type": "code",
   "execution_count": 27,
   "id": "e1c12c2a",
   "metadata": {},
   "outputs": [
    {
     "data": {
      "text/plain": [
       "'us-east-1'"
      ]
     },
     "execution_count": 27,
     "metadata": {},
     "output_type": "execute_result"
    }
   ],
   "source": [
    "region"
   ]
  },
  {
   "cell_type": "code",
   "execution_count": 28,
   "id": "811d5478",
   "metadata": {},
   "outputs": [],
   "source": [
    "service = 'es'"
   ]
  },
  {
   "cell_type": "code",
   "execution_count": 29,
   "id": "3cdffefd",
   "metadata": {},
   "outputs": [],
   "source": [
    "# ssm = boto3.client('ssm', region_name=region)"
   ]
  },
  {
   "cell_type": "code",
   "execution_count": 30,
   "id": "8cb41c25",
   "metadata": {},
   "outputs": [],
   "source": [
    "credentials = boto3.Session().get_credentials()\n",
    "awsauth = AWS4Auth(credentials.access_key, credentials.secret_key,\n",
    "                   region, service, session_token=credentials.token)"
   ]
  },
  {
   "cell_type": "code",
   "execution_count": 31,
   "id": "5d71c649",
   "metadata": {},
   "outputs": [
    {
     "data": {
      "text/plain": [
       "'arn:aws:iam::333209439517:role/service-role/AmazonSageMaker-ExecutionRole-20210623T145063'"
      ]
     },
     "execution_count": 31,
     "metadata": {},
     "output_type": "execute_result"
    }
   ],
   "source": [
    "role"
   ]
  },
  {
   "cell_type": "code",
   "execution_count": 32,
   "id": "aa8d6cf8",
   "metadata": {},
   "outputs": [
    {
     "data": {
      "text/plain": [
       "<botocore.credentials.RefreshableCredentials at 0x7f261ee1f2b0>"
      ]
     },
     "execution_count": 32,
     "metadata": {},
     "output_type": "execute_result"
    }
   ],
   "source": [
    "credentials"
   ]
  },
  {
   "cell_type": "code",
   "execution_count": 33,
   "id": "7f8f709b",
   "metadata": {},
   "outputs": [],
   "source": [
    "host = \"search-search-all-wroz4g764qrjndse4eqbika2ia.us-east-1.es.amazonaws.com\"\n",
    "    \n",
    "es_index = 'knn-test-1'\n",
    "# \"search-domainname-yourDomainEndpoint.REGION.es.amazonaws.com\""
   ]
  },
  {
   "cell_type": "code",
   "execution_count": 34,
   "id": "0c17e2ba",
   "metadata": {},
   "outputs": [],
   "source": [
    "def connect_to_ES(esEndPoint):\n",
    "    print ('Connecting to the ES Endpoint {0}'.format(esEndPoint))\n",
    "    try:\n",
    "        esClient = Elasticsearch(\n",
    "            hosts=[{'host': esEndPoint, 'port': 443}],\n",
    "            http_auth=('cac','Test123$'),\n",
    "            use_ssl=True,\n",
    "            verify_certs=True,\n",
    "            connection_class=RequestsHttpConnection)\n",
    "        return esClient\n",
    "    except Exception as E:\n",
    "        print(\"Unable to connect to {0}\".format(esEndPoint))\n",
    "        print(E)"
   ]
  },
  {
   "cell_type": "code",
   "execution_count": 35,
   "id": "360dffff",
   "metadata": {},
   "outputs": [
    {
     "name": "stdout",
     "output_type": "stream",
     "text": [
      "Connecting to the ES Endpoint search-search-all-wroz4g764qrjndse4eqbika2ia.us-east-1.es.amazonaws.com\n"
     ]
    },
    {
     "data": {
      "text/plain": [
       "<Elasticsearch([{'host': 'search-search-all-wroz4g764qrjndse4eqbika2ia.us-east-1.es.amazonaws.com', 'port': 443}])>"
      ]
     },
     "execution_count": 35,
     "metadata": {},
     "output_type": "execute_result"
    }
   ],
   "source": [
    "es = connect_to_ES(host)\n",
    "es"
   ]
  },
  {
   "cell_type": "code",
   "execution_count": 36,
   "id": "d601d1c2",
   "metadata": {},
   "outputs": [
    {
     "data": {
      "text/plain": [
       "False"
      ]
     },
     "execution_count": 36,
     "metadata": {},
     "output_type": "execute_result"
    }
   ],
   "source": [
    "es.indices.exists(index=es_index)"
   ]
  },
  {
   "cell_type": "code",
   "execution_count": 37,
   "id": "e5af97bd",
   "metadata": {},
   "outputs": [],
   "source": [
    "def create_index(index):\n",
    "    \"\"\"\n",
    "    This function will create an index using knn settings\n",
    "    \"\"\"\n",
    "    if not es.indices.exists(index=index):\n",
    "        index_settings = {\n",
    "            \"settings\": {\n",
    "                \"index.knn\": True,\n",
    "                \"index.mapping.total_fields.limit\": \"2000\"\n",
    "            },\n",
    "            \"mappings\": {\n",
    "                \"properties\": {\n",
    "                    \"embeddings\": {\n",
    "                        \"type\": \"knn_vector\",\n",
    "                        \"dimension\": 2048\n",
    "                    }\n",
    "                }\n",
    "            }\n",
    "        }\n",
    "\n",
    "        es.indices.create(index=index, body=json.dumps(index_settings))\n",
    "        print(\"Created the elasticsearch index successufly \")\n",
    "    else:\n",
    "        print(\"elasticsearch index already exists\")"
   ]
  },
  {
   "cell_type": "code",
   "execution_count": 38,
   "id": "1aa60776",
   "metadata": {},
   "outputs": [
    {
     "data": {
      "text/plain": [
       "'knn-test-1'"
      ]
     },
     "execution_count": 38,
     "metadata": {},
     "output_type": "execute_result"
    }
   ],
   "source": [
    "es_index"
   ]
  },
  {
   "cell_type": "code",
   "execution_count": 39,
   "id": "71cafed4",
   "metadata": {},
   "outputs": [
    {
     "name": "stdout",
     "output_type": "stream",
     "text": [
      "Created the elasticsearch index successufly \n"
     ]
    }
   ],
   "source": [
    "#Create the index using knn settings\n",
    "create_index(es_index)"
   ]
  },
  {
   "cell_type": "code",
   "execution_count": 53,
   "id": "36f2c9e5",
   "metadata": {},
   "outputs": [
    {
     "data": {
      "text/plain": [
       "{'.opendistro_security': {'aliases': {}},\n",
       " '.kibana_1': {'aliases': {'.kibana': {}}},\n",
       " 'knn-test-1': {'aliases': {}}}"
      ]
     },
     "execution_count": 53,
     "metadata": {},
     "output_type": "execute_result"
    }
   ],
   "source": [
    "# You can check if the index is created within your es cluster\n",
    "es.indices.get_alias(\"*\")"
   ]
  },
  {
   "cell_type": "markdown",
   "id": "60d26645",
   "metadata": {},
   "source": [
    "## Load features into OpenSearch"
   ]
  },
  {
   "cell_type": "markdown",
   "id": "9a455a8a",
   "metadata": {},
   "source": [
    "### Load features from s3"
   ]
  },
  {
   "cell_type": "code",
   "execution_count": 6,
   "id": "871ba77b",
   "metadata": {},
   "outputs": [],
   "source": [
    "s3_uris = get_all_s3_keys(bucket, filt='embeddings/resnet')"
   ]
  },
  {
   "cell_type": "code",
   "execution_count": 43,
   "id": "41daae50",
   "metadata": {},
   "outputs": [
    {
     "data": {
      "text/plain": [
       "['s3://sagemaker-us-east-1-333209439517/embeddings/resnet50/resnet_vectors_andesite.json',\n",
       " 's3://sagemaker-us-east-1-333209439517/embeddings/resnet50/resnet_vectors_gneiss.json',\n",
       " 's3://sagemaker-us-east-1-333209439517/embeddings/resnet50/resnet_vectors_marble.json',\n",
       " 's3://sagemaker-us-east-1-333209439517/embeddings/resnet50/resnet_vectors_quartzite.json',\n",
       " 's3://sagemaker-us-east-1-333209439517/embeddings/resnet50/resnet_vectors_rhyolite.json',\n",
       " 's3://sagemaker-us-east-1-333209439517/embeddings/resnet50/resnet_vectors_schist.json']"
      ]
     },
     "execution_count": 43,
     "metadata": {},
     "output_type": "execute_result"
    }
   ],
   "source": [
    "s3_uris"
   ]
  },
  {
   "cell_type": "code",
   "execution_count": 8,
   "id": "73910956",
   "metadata": {},
   "outputs": [
    {
     "data": {
      "text/plain": [
       "'s3://sagemaker-us-east-1-333209439517/embeddings/resnet50/resnet_vectors_andesite.json'"
      ]
     },
     "execution_count": 8,
     "metadata": {},
     "output_type": "execute_result"
    }
   ],
   "source": [
    "s3_uri = s3_uris[0]\n",
    "s3_uri"
   ]
  },
  {
   "cell_type": "code",
   "execution_count": 9,
   "id": "b0d2acfd",
   "metadata": {},
   "outputs": [],
   "source": [
    "payload = s3.get_object(Bucket=bucket,Key=s3_uri.replace(f's3://{bucket}/', ''))['Body'].read()"
   ]
  },
  {
   "cell_type": "code",
   "execution_count": 11,
   "id": "c59f8eef",
   "metadata": {},
   "outputs": [
    {
     "data": {
      "text/plain": [
       "bytes"
      ]
     },
     "execution_count": 11,
     "metadata": {},
     "output_type": "execute_result"
    }
   ],
   "source": [
    "type(payload)"
   ]
  },
  {
   "cell_type": "code",
   "execution_count": 12,
   "id": "a7160a7d",
   "metadata": {},
   "outputs": [],
   "source": [
    "data = json.loads(payload.decode('utf8').replace(\"'\", '\"'))"
   ]
  },
  {
   "cell_type": "code",
   "execution_count": 13,
   "id": "eee96223",
   "metadata": {},
   "outputs": [
    {
     "data": {
      "text/plain": [
       "dict_keys(['labels', 'filenames', 'features'])"
      ]
     },
     "execution_count": 13,
     "metadata": {},
     "output_type": "execute_result"
    }
   ],
   "source": [
    "data.keys()"
   ]
  },
  {
   "cell_type": "code",
   "execution_count": 14,
   "id": "a43f39dd",
   "metadata": {},
   "outputs": [
    {
     "data": {
      "text/plain": [
       "'andesite'"
      ]
     },
     "execution_count": 14,
     "metadata": {},
     "output_type": "execute_result"
    }
   ],
   "source": [
    "data['labels']"
   ]
  },
  {
   "cell_type": "code",
   "execution_count": 15,
   "id": "cfad1233",
   "metadata": {},
   "outputs": [
    {
     "data": {
      "text/plain": [
       "'/mnt/osn3/caceres/classes/geological/geological_similarity/andesite/04ZDG.jpg'"
      ]
     },
     "execution_count": 15,
     "metadata": {},
     "output_type": "execute_result"
    }
   ],
   "source": [
    "data['filenames'][0]"
   ]
  },
  {
   "cell_type": "code",
   "execution_count": 17,
   "id": "d02bef0e",
   "metadata": {},
   "outputs": [
    {
     "data": {
      "text/plain": [
       "2048"
      ]
     },
     "execution_count": 17,
     "metadata": {},
     "output_type": "execute_result"
    }
   ],
   "source": [
    "len(eval(data['features'][0]))"
   ]
  },
  {
   "cell_type": "code",
   "execution_count": 45,
   "id": "821465d0",
   "metadata": {},
   "outputs": [
    {
     "name": "stdout",
     "output_type": "stream",
     "text": [
      "s3://sagemaker-us-east-2-333209439517/geological_similarity/andesite/04ZDG.jpg 2048\n"
     ]
    }
   ],
   "source": [
    "for filename, embeddings in zip(data['filenames'], data['features']):\n",
    "    embeddings = ast.literal_eval(embeddings)\n",
    "    filename = filename.replace('/mnt/osn3/caceres/classes/geological', 's3://sagemaker-us-east-2-333209439517')\n",
    "    print(filename, len(embeddings))\n",
    "    \n",
    "    break\n",
    "    \n",
    "# sagemaker-us-east-2-333209439517/geological_similarity"
   ]
  },
  {
   "cell_type": "code",
   "execution_count": 46,
   "id": "aab6148c",
   "metadata": {},
   "outputs": [],
   "source": [
    "import tqdm"
   ]
  },
  {
   "cell_type": "code",
   "execution_count": 51,
   "id": "29e0db5c",
   "metadata": {},
   "outputs": [],
   "source": [
    "\n",
    "def ingest_data_into_es(filt):\n",
    "    \"\"\"\n",
    "        Ingest pre-calculated vectors into OpenSearch index. \n",
    "        \n",
    "        filt: string filter for keys\n",
    "    \"\"\"\n",
    "    s3_uris = get_all_s3_keys(bucket, filt='embeddings/resnet')\n",
    "\n",
    "    count = 0\n",
    "    lost_records = 0\n",
    "    total = 0\n",
    "    for s3_uri in s3_uris:\n",
    "        payload = s3.get_object(Bucket=bucket,Key=s3_uri.replace(f's3://{bucket}/', ''))['Body'].read()\n",
    "        data = json.loads(payload.decode('utf8').replace(\"'\", '\"'))\n",
    "\n",
    "        for filename, embeddings in tqdm.tqdm(zip(data['filenames'], data['features'])):\n",
    "            try:\n",
    "                embeddings = ast.literal_eval(embeddings)\n",
    "                filename = filename.replace('/mnt/osn3/caceres/classes/geological', 's3://sagemaker-us-east-2-333209439517')\n",
    "\n",
    "                # make record\n",
    "                record = {}\n",
    "                record['id'] = count\n",
    "                record['uri'] = filename\n",
    "                record['embeddings'] = embeddings\n",
    "\n",
    "                # ingest into ES\n",
    "                es.index(index=es_index, id=count, body=record)\n",
    "\n",
    "                count += 1\n",
    "            except Exception as error:\n",
    "                logger.error(f\"An error {error} for record {record}\")\n",
    "                lost_records += 1\n",
    "            \n",
    "            total += 1\n",
    "\n",
    "    print(f'{lost_records} out of {total} are lost records')\n",
    "\n",
    "    print(f'{count} out of {total} records has been processed')\n",
    "\n",
    "    return {\n",
    "        'statusCode': 200,\n",
    "        'body': json.dumps(str(count) + ' records processed.')\n",
    "    }"
   ]
  },
  {
   "cell_type": "code",
   "execution_count": 52,
   "id": "156d2e85",
   "metadata": {},
   "outputs": [
    {
     "name": "stderr",
     "output_type": "stream",
     "text": [
      "5000it [01:17, 64.70it/s]\n",
      "5000it [01:08, 72.66it/s]\n",
      "4998it [01:14, 66.99it/s]\n",
      "5000it [01:10, 70.50it/s]\n",
      "5000it [01:13, 68.49it/s]\n",
      "5000it [01:11, 70.01it/s]\n"
     ]
    },
    {
     "ename": "NameError",
     "evalue": "name 'records' is not defined",
     "output_type": "error",
     "traceback": [
      "\u001b[0;31m---------------------------------------------------------------------------\u001b[0m",
      "\u001b[0;31mNameError\u001b[0m                                 Traceback (most recent call last)",
      "\u001b[0;32m<ipython-input-52-82f690f3601e>\u001b[0m in \u001b[0;36m<module>\u001b[0;34m\u001b[0m\n\u001b[0;32m----> 1\u001b[0;31m \u001b[0mingest_data_into_es\u001b[0m\u001b[0;34m(\u001b[0m\u001b[0;34m)\u001b[0m\u001b[0;34m\u001b[0m\u001b[0;34m\u001b[0m\u001b[0m\n\u001b[0m",
      "\u001b[0;32m<ipython-input-51-53b130cf9e5a>\u001b[0m in \u001b[0;36mingest_data_into_es\u001b[0;34m()\u001b[0m\n\u001b[1;32m     30\u001b[0m \u001b[0;34m\u001b[0m\u001b[0m\n\u001b[1;32m     31\u001b[0m \u001b[0;34m\u001b[0m\u001b[0m\n\u001b[0;32m---> 32\u001b[0;31m     \u001b[0mprint\u001b[0m\u001b[0;34m(\u001b[0m\u001b[0;34mf'{lost_records} out of {len(records)} are lost records'\u001b[0m\u001b[0;34m)\u001b[0m\u001b[0;34m\u001b[0m\u001b[0;34m\u001b[0m\u001b[0m\n\u001b[0m\u001b[1;32m     33\u001b[0m \u001b[0;34m\u001b[0m\u001b[0m\n\u001b[1;32m     34\u001b[0m     \u001b[0mprint\u001b[0m\u001b[0;34m(\u001b[0m\u001b[0;34mf'{count} out of {len(records)} records has been processed'\u001b[0m\u001b[0;34m)\u001b[0m\u001b[0;34m\u001b[0m\u001b[0;34m\u001b[0m\u001b[0m\n",
      "\u001b[0;31mNameError\u001b[0m: name 'records' is not defined"
     ]
    }
   ],
   "source": [
    "ingest_data_into_es()"
   ]
  },
  {
   "cell_type": "markdown",
   "id": "ba3ee037",
   "metadata": {},
   "source": [
    "## Check that data is indeed in ES"
   ]
  },
  {
   "cell_type": "code",
   "execution_count": 54,
   "id": "91411923",
   "metadata": {},
   "outputs": [],
   "source": [
    "res = es.search(index=es_index, body={\n",
    "                    \"query\": {\n",
    "                            \"match_all\": {}\n",
    "                        }},\n",
    "           size=10)"
   ]
  },
  {
   "cell_type": "code",
   "execution_count": 55,
   "id": "de9a26ee",
   "metadata": {},
   "outputs": [
    {
     "data": {
      "text/plain": [
       "dict"
      ]
     },
     "execution_count": 55,
     "metadata": {},
     "output_type": "execute_result"
    }
   ],
   "source": [
    "type(res)"
   ]
  },
  {
   "cell_type": "code",
   "execution_count": 56,
   "id": "87382895",
   "metadata": {},
   "outputs": [
    {
     "data": {
      "text/plain": [
       "dict_keys(['took', 'timed_out', '_shards', 'hits'])"
      ]
     },
     "execution_count": 56,
     "metadata": {},
     "output_type": "execute_result"
    }
   ],
   "source": [
    "res.keys()"
   ]
  },
  {
   "cell_type": "code",
   "execution_count": 57,
   "id": "1e7adf72",
   "metadata": {},
   "outputs": [
    {
     "data": {
      "text/plain": [
       "288"
      ]
     },
     "execution_count": 57,
     "metadata": {},
     "output_type": "execute_result"
    }
   ],
   "source": [
    "res['took']"
   ]
  },
  {
   "cell_type": "code",
   "execution_count": 58,
   "id": "048ae288",
   "metadata": {},
   "outputs": [
    {
     "data": {
      "text/plain": [
       "False"
      ]
     },
     "execution_count": 58,
     "metadata": {},
     "output_type": "execute_result"
    }
   ],
   "source": [
    "res['timed_out']"
   ]
  },
  {
   "cell_type": "code",
   "execution_count": 59,
   "id": "f3588537",
   "metadata": {},
   "outputs": [
    {
     "data": {
      "text/plain": [
       "{'total': 5, 'successful': 5, 'skipped': 0, 'failed': 0}"
      ]
     },
     "execution_count": 59,
     "metadata": {},
     "output_type": "execute_result"
    }
   ],
   "source": [
    "res['_shards']"
   ]
  },
  {
   "cell_type": "code",
   "execution_count": 61,
   "id": "6cb8585c",
   "metadata": {},
   "outputs": [
    {
     "data": {
      "text/plain": [
       "dict_keys(['total', 'max_score', 'hits'])"
      ]
     },
     "execution_count": 61,
     "metadata": {},
     "output_type": "execute_result"
    }
   ],
   "source": [
    "res['hits'].keys()"
   ]
  },
  {
   "cell_type": "code",
   "execution_count": 68,
   "id": "e2e0a1d8",
   "metadata": {},
   "outputs": [
    {
     "data": {
      "text/plain": [
       "dict_keys(['_index', '_type', '_id', '_score', '_source'])"
      ]
     },
     "execution_count": 68,
     "metadata": {},
     "output_type": "execute_result"
    }
   ],
   "source": [
    "res['hits']['hits'][0].keys()"
   ]
  },
  {
   "cell_type": "code",
   "execution_count": 69,
   "id": "11eda14f",
   "metadata": {},
   "outputs": [
    {
     "data": {
      "text/plain": [
       "'knn-test-1'"
      ]
     },
     "execution_count": 69,
     "metadata": {},
     "output_type": "execute_result"
    }
   ],
   "source": [
    "res['hits']['hits'][0]['_index']"
   ]
  },
  {
   "cell_type": "code",
   "execution_count": 70,
   "id": "1482baa5",
   "metadata": {},
   "outputs": [
    {
     "data": {
      "text/plain": [
       "'_doc'"
      ]
     },
     "execution_count": 70,
     "metadata": {},
     "output_type": "execute_result"
    }
   ],
   "source": [
    "res['hits']['hits'][0]['_type']"
   ]
  },
  {
   "cell_type": "code",
   "execution_count": 71,
   "id": "4535bf37",
   "metadata": {},
   "outputs": [
    {
     "data": {
      "text/plain": [
       "'3'"
      ]
     },
     "execution_count": 71,
     "metadata": {},
     "output_type": "execute_result"
    }
   ],
   "source": [
    "res['hits']['hits'][0]['_id']"
   ]
  },
  {
   "cell_type": "code",
   "execution_count": 72,
   "id": "32667c9f",
   "metadata": {},
   "outputs": [
    {
     "data": {
      "text/plain": [
       "1.0"
      ]
     },
     "execution_count": 72,
     "metadata": {},
     "output_type": "execute_result"
    }
   ],
   "source": [
    "res['hits']['hits'][0]['_score']"
   ]
  },
  {
   "cell_type": "code",
   "execution_count": 75,
   "id": "3964ccbb",
   "metadata": {},
   "outputs": [
    {
     "data": {
      "text/plain": [
       "2048"
      ]
     },
     "execution_count": 75,
     "metadata": {},
     "output_type": "execute_result"
    }
   ],
   "source": [
    "len(res['hits']['hits'][0]['_source']['embeddings'])"
   ]
  },
  {
   "cell_type": "code",
   "execution_count": 76,
   "id": "ec17fb83",
   "metadata": {},
   "outputs": [
    {
     "data": {
      "text/plain": [
       "'s3://sagemaker-us-east-2-333209439517/geological_similarity/andesite/0UHNC.jpg'"
      ]
     },
     "execution_count": 76,
     "metadata": {},
     "output_type": "execute_result"
    }
   ],
   "source": [
    "res['hits']['hits'][0]['_source']['uri']"
   ]
  },
  {
   "cell_type": "markdown",
   "id": "e824cfd7",
   "metadata": {},
   "source": [
    "## Query with embeddings"
   ]
  },
  {
   "cell_type": "code",
   "execution_count": 85,
   "id": "ff27c6a8",
   "metadata": {},
   "outputs": [],
   "source": [
    "query_embeddings = res['hits']['hits'][0]['_source']['embeddings']\n",
    "num_similar_images = 4"
   ]
  },
  {
   "cell_type": "code",
   "execution_count": 86,
   "id": "08563638",
   "metadata": {},
   "outputs": [],
   "source": [
    "es_query ={\n",
    "            \"query\": {\n",
    "                \"knn\": {\n",
    "                    \"embeddings\": {\n",
    "                        \"vector\": query_embeddings,\n",
    "                        \"k\": 5\n",
    "                    }\n",
    "                }\n",
    "            }\n",
    "    }\n",
    "\n",
    "res = es.search(index=es_index, body=es_query, size=num_similar_images)\n",
    "\n"
   ]
  },
  {
   "cell_type": "code",
   "execution_count": 88,
   "id": "7860e58a",
   "metadata": {},
   "outputs": [
    {
     "name": "stdout",
     "output_type": "stream",
     "text": [
      "s3://sagemaker-us-east-2-333209439517/geological_similarity/andesite/0UHNC.jpg 1.0\n",
      "s3://sagemaker-us-east-2-333209439517/geological_similarity/andesite/OQOXQ.jpg 0.0057354467\n",
      "s3://sagemaker-us-east-2-333209439517/geological_similarity/andesite/AG89G.jpg 0.0056438325\n",
      "s3://sagemaker-us-east-2-333209439517/geological_similarity/andesite/H7U69.jpg 0.005360121\n"
     ]
    }
   ],
   "source": [
    "for hit in res['hits']['hits']:\n",
    "    print(hit['_source']['uri'], hit['_score'])"
   ]
  },
  {
   "cell_type": "code",
   "execution_count": 91,
   "id": "b25bf29e",
   "metadata": {},
   "outputs": [],
   "source": [
    "a = [hit['_source']['uri'] for hit in res['hits']['hits']][0]"
   ]
  },
  {
   "cell_type": "code",
   "execution_count": 93,
   "id": "77eb0517",
   "metadata": {},
   "outputs": [
    {
     "data": {
      "text/plain": [
       "str"
      ]
     },
     "execution_count": 93,
     "metadata": {},
     "output_type": "execute_result"
    }
   ],
   "source": [
    "type(a)"
   ]
  },
  {
   "cell_type": "code",
   "execution_count": 95,
   "id": "9745c802",
   "metadata": {},
   "outputs": [],
   "source": [
    "from urllib.parse import urlparse"
   ]
  },
  {
   "cell_type": "code",
   "execution_count": 96,
   "id": "46b55f01",
   "metadata": {},
   "outputs": [
    {
     "data": {
      "text/plain": [
       "ParseResult(scheme='s3', netloc='sagemaker-us-east-2-333209439517', path='/geological_similarity/andesite/0UHNC.jpg', params='', query='', fragment='')"
      ]
     },
     "execution_count": 96,
     "metadata": {},
     "output_type": "execute_result"
    }
   ],
   "source": [
    "o = urlparse(a, allow_fragments=False)\n",
    "o"
   ]
  },
  {
   "cell_type": "code",
   "execution_count": 98,
   "id": "05775542",
   "metadata": {},
   "outputs": [
    {
     "data": {
      "text/plain": [
       "('sagemaker-us-east-2-333209439517',\n",
       " 'geological_similarity/andesite/0UHNC.jpg')"
      ]
     },
     "execution_count": 98,
     "metadata": {},
     "output_type": "execute_result"
    }
   ],
   "source": [
    "o.netloc, o.path.lstrip('/')"
   ]
  },
  {
   "cell_type": "code",
   "execution_count": 99,
   "id": "41ddb6c6",
   "metadata": {},
   "outputs": [
    {
     "data": {
      "text/plain": [
       "str"
      ]
     },
     "execution_count": 99,
     "metadata": {},
     "output_type": "execute_result"
    }
   ],
   "source": [
    "type(o.netloc)"
   ]
  },
  {
   "cell_type": "code",
   "execution_count": 100,
   "id": "35ce6e3d",
   "metadata": {},
   "outputs": [
    {
     "data": {
      "text/plain": [
       "str"
      ]
     },
     "execution_count": 100,
     "metadata": {},
     "output_type": "execute_result"
    }
   ],
   "source": [
    "type(o.path.lstrip('/'))"
   ]
  },
  {
   "cell_type": "code",
   "execution_count": null,
   "id": "3b3aac7f",
   "metadata": {},
   "outputs": [],
   "source": []
  }
 ],
 "metadata": {
  "kernelspec": {
   "display_name": "conda_pytorch_p36",
   "language": "python",
   "name": "conda_pytorch_p36"
  },
  "language_info": {
   "codemirror_mode": {
    "name": "ipython",
    "version": 3
   },
   "file_extension": ".py",
   "mimetype": "text/x-python",
   "name": "python",
   "nbconvert_exporter": "python",
   "pygments_lexer": "ipython3",
   "version": "3.6.13"
  }
 },
 "nbformat": 4,
 "nbformat_minor": 5
}
