{
 "cells": [
  {
   "cell_type": "code",
   "execution_count": 1,
   "id": "99a46d44",
   "metadata": {},
   "outputs": [],
   "source": [
    "import glob\n",
    "import os\n",
    "import numpy as np\n",
    "from PIL import Image\n",
    "import matplotlib.pyplot as plt\n",
    "import random\n",
    "\n",
    "import seaborn as sn\n",
    "import boto3\n",
    "import re\n",
    "from io import BytesIO\n",
    "import base64\n",
    "import tqdm\n",
    "\n",
    "import torch\n",
    "import torch.nn as nn\n",
    "import torchvision.models as models\n",
    "from torch.autograd import Variable\n",
    "from torchvision import transforms"
   ]
  },
  {
   "cell_type": "code",
   "execution_count": 2,
   "id": "f459c4a9",
   "metadata": {},
   "outputs": [],
   "source": [
    "import boto3\n",
    "import sagemaker\n",
    "import time\n",
    "import json\n",
    "from sagemaker.utils import name_from_base"
   ]
  },
  {
   "cell_type": "code",
   "execution_count": 3,
   "id": "38cabc51",
   "metadata": {},
   "outputs": [],
   "source": [
    "role = sagemaker.get_execution_role()\n",
    "sess = sagemaker.Session()\n",
    "region = sess.boto_region_name\n",
    "bucket = sess.default_bucket()"
   ]
  },
  {
   "cell_type": "markdown",
   "id": "f7a9a128",
   "metadata": {},
   "source": [
    "# Herlper functions"
   ]
  },
  {
   "cell_type": "code",
   "execution_count": 4,
   "id": "d839d401",
   "metadata": {},
   "outputs": [],
   "source": [
    "#return all s3 keys\n",
    "def get_all_s3_keys(bucket, filt=None):\n",
    "    \"\"\"Get a list of all keys in an S3 bucket.\"\"\"    \n",
    "    keys = []\n",
    "\n",
    "    kwargs = {'Bucket': bucket}\n",
    "    while True:\n",
    "        resp = s3.list_objects_v2(**kwargs)\n",
    "        for obj in resp['Contents']:\n",
    "            key = obj['Key']\n",
    "            if filt is not None:\n",
    "                if filt not in key:\n",
    "                    continue\n",
    "            keys.append('s3://' + bucket + '/' + key)\n",
    "\n",
    "        try:\n",
    "            kwargs['ContinuationToken'] = resp['NextContinuationToken']\n",
    "        except KeyError:\n",
    "            break\n",
    "\n",
    "    return keys"
   ]
  },
  {
   "cell_type": "markdown",
   "id": "c06f3304",
   "metadata": {},
   "source": [
    "# Make Model"
   ]
  },
  {
   "cell_type": "code",
   "execution_count": null,
   "id": "1f97399c",
   "metadata": {},
   "outputs": [],
   "source": [
    "\n",
    "resnet50 = models.resnet50(pretrained=True)\n",
    "\n",
    "_ = resnet50.eval()\n",
    "# _ = resnet50.cuda()\n",
    "\n",
    "modules=list(resnet50.children())[:-1]\n",
    "resnet50=nn.Sequential(*modules)\n",
    "for p in resnet50.parameters():\n",
    "    p.requires_grad = False\n",
    "\n",
    "transform = transforms.Compose([transforms.ToTensor()])\n",
    "\n",
    "device = torch.device('cuda:0' if torch.cuda.is_available() else \"cpu\")\n",
    "\n",
    "resnet50 = resnet50.to(device)\n",
    "\n",
    "device\n"
   ]
  },
  {
   "cell_type": "markdown",
   "id": "a68ae457",
   "metadata": {},
   "source": [
    "# Test model with a single image"
   ]
  },
  {
   "cell_type": "code",
   "execution_count": 5,
   "id": "89889fb0",
   "metadata": {},
   "outputs": [],
   "source": [
    "s3 = boto3.client('s3')"
   ]
  },
  {
   "cell_type": "code",
   "execution_count": 6,
   "id": "bcfb2614",
   "metadata": {},
   "outputs": [],
   "source": [
    "data_bucket = 'sagemaker-us-east-2-333209439517'"
   ]
  },
  {
   "cell_type": "code",
   "execution_count": 7,
   "id": "bfe58b6a",
   "metadata": {},
   "outputs": [
    {
     "data": {
      "text/plain": [
       "('s3://sagemaker-us-east-2-333209439517/geological_similarity/andesite/012L6.jpg',\n",
       " 29998)"
      ]
     },
     "execution_count": 7,
     "metadata": {},
     "output_type": "execute_result"
    }
   ],
   "source": [
    "s3_uris = get_all_s3_keys(data_bucket, filt='jpg')\n",
    "\n",
    "s3_uris[0], len(s3_uris)"
   ]
  },
  {
   "cell_type": "code",
   "execution_count": 8,
   "id": "a4ca86c3",
   "metadata": {},
   "outputs": [
    {
     "data": {
      "text/plain": [
       "'s3://sagemaker-us-east-2-333209439517/geological_similarity/andesite/012L6.jpg'"
      ]
     },
     "execution_count": 8,
     "metadata": {},
     "output_type": "execute_result"
    }
   ],
   "source": [
    "s3_uri = s3_uris[0]\n",
    "s3_uri"
   ]
  },
  {
   "cell_type": "code",
   "execution_count": null,
   "id": "0602c020",
   "metadata": {},
   "outputs": [],
   "source": [
    "s3_uri = 's3://sagemaker-us-east-2-333209439517/geological_similarity/andesite/012L6.jpg'"
   ]
  },
  {
   "cell_type": "code",
   "execution_count": 9,
   "id": "90e80b04",
   "metadata": {},
   "outputs": [],
   "source": [
    "payload = s3.get_object(Bucket=data_bucket,Key=s3_uri.replace(f's3://{data_bucket}/', ''))['Body'].read()"
   ]
  },
  {
   "cell_type": "code",
   "execution_count": null,
   "id": "36009509",
   "metadata": {},
   "outputs": [],
   "source": [
    "im_file = BytesIO(payload)  # convert image to file-like object\n",
    "img = Image.open(im_file)   # img is now PIL Image object\n",
    "\n",
    "img"
   ]
  },
  {
   "cell_type": "code",
   "execution_count": null,
   "id": "82f5f22c",
   "metadata": {},
   "outputs": [],
   "source": [
    "im = np.asarray(img)# convert image to numpy array"
   ]
  },
  {
   "cell_type": "code",
   "execution_count": null,
   "id": "3cff178d",
   "metadata": {},
   "outputs": [],
   "source": [
    "im.shape"
   ]
  },
  {
   "cell_type": "code",
   "execution_count": null,
   "id": "172ce537",
   "metadata": {},
   "outputs": [],
   "source": [
    "im = np.moveaxis(im, -1, 0)"
   ]
  },
  {
   "cell_type": "code",
   "execution_count": null,
   "id": "114dcf8e",
   "metadata": {},
   "outputs": [],
   "source": [
    "im.shape"
   ]
  },
  {
   "cell_type": "code",
   "execution_count": null,
   "id": "2c632791",
   "metadata": {},
   "outputs": [],
   "source": [
    "img = transform(im) # convert to tensor\n",
    "#img = img.reshape(1,3,28,28)\n",
    "img = torch.unsqueeze(img, 0)\n",
    "img = img.to(device)\n"
   ]
  },
  {
   "cell_type": "code",
   "execution_count": null,
   "id": "c986c573",
   "metadata": {},
   "outputs": [],
   "source": [
    "img.shape"
   ]
  },
  {
   "cell_type": "code",
   "execution_count": null,
   "id": "6b39188d",
   "metadata": {},
   "outputs": [],
   "source": [
    "\n",
    "with torch.no_grad():\n",
    "    feature = resnet50(img)\n",
    "\n",
    "feature = feature.cpu().detach().numpy().reshape(-1)\n",
    "\n",
    "feature.shape"
   ]
  },
  {
   "cell_type": "code",
   "execution_count": null,
   "id": "6fa53b01",
   "metadata": {},
   "outputs": [],
   "source": []
  },
  {
   "cell_type": "markdown",
   "id": "b2cb0f07",
   "metadata": {},
   "source": [
    "# Save model to s3"
   ]
  },
  {
   "cell_type": "code",
   "execution_count": null,
   "id": "3f9a1edf",
   "metadata": {},
   "outputs": [],
   "source": [
    "img.shape"
   ]
  },
  {
   "cell_type": "code",
   "execution_count": null,
   "id": "b0999446",
   "metadata": {},
   "outputs": [],
   "source": [
    "import tarfile"
   ]
  },
  {
   "cell_type": "code",
   "execution_count": null,
   "id": "063bf853",
   "metadata": {},
   "outputs": [],
   "source": [
    "input_shape = [1, 3, 28, 28]\n",
    "trace = torch.jit.trace(resnet50.float().eval(), torch.zeros(input_shape).float())"
   ]
  },
  {
   "cell_type": "code",
   "execution_count": null,
   "id": "62a66f6c",
   "metadata": {},
   "outputs": [],
   "source": [
    "trace.save(\"model.pth\")"
   ]
  },
  {
   "cell_type": "code",
   "execution_count": null,
   "id": "b60997bf",
   "metadata": {},
   "outputs": [],
   "source": [
    "with tarfile.open(\"model.tar.gz\", \"w:gz\") as f:\n",
    "    f.add(\"model.pth\")"
   ]
  },
  {
   "cell_type": "code",
   "execution_count": null,
   "id": "be5ec803",
   "metadata": {},
   "outputs": [],
   "source": [
    "bucket"
   ]
  },
  {
   "cell_type": "code",
   "execution_count": null,
   "id": "613602ea",
   "metadata": {},
   "outputs": [],
   "source": [
    "compilation_job_name = name_from_base(\"TorchVision-ResNet50\")\n",
    "prefix = compilation_job_name + \"/model\""
   ]
  },
  {
   "cell_type": "code",
   "execution_count": null,
   "id": "46e30076",
   "metadata": {},
   "outputs": [],
   "source": [
    "compilation_job_name, prefix"
   ]
  },
  {
   "cell_type": "code",
   "execution_count": null,
   "id": "ad25c479",
   "metadata": {},
   "outputs": [],
   "source": [
    "model_path = sess.upload_data(path=\"model.tar.gz\", key_prefix=prefix)"
   ]
  },
  {
   "cell_type": "code",
   "execution_count": null,
   "id": "a035771a",
   "metadata": {},
   "outputs": [],
   "source": [
    "model_path = 's3://sagemaker-us-east-1-333209439517/TorchVision-ResNet50-2021-09-13-00-30-10-117/model/model.tar.gz'"
   ]
  },
  {
   "cell_type": "markdown",
   "id": "1914ac93",
   "metadata": {},
   "source": [
    "# Deploy model"
   ]
  },
  {
   "cell_type": "code",
   "execution_count": null,
   "id": "bc5d2c92",
   "metadata": {},
   "outputs": [],
   "source": [
    "import sagemaker\n",
    "from sagemaker.pytorch import PyTorchModel\n",
    "from sagemaker import get_execution_role, Session"
   ]
  },
  {
   "cell_type": "code",
   "execution_count": null,
   "id": "1c384e5a",
   "metadata": {},
   "outputs": [],
   "source": [
    "role"
   ]
  },
  {
   "cell_type": "code",
   "execution_count": null,
   "id": "9801874b",
   "metadata": {},
   "outputs": [],
   "source": [
    "predictor.delete_endpoint()"
   ]
  },
  {
   "cell_type": "code",
   "execution_count": null,
   "id": "a10d701d",
   "metadata": {},
   "outputs": [],
   "source": [
    "model = PyTorchModel(\n",
    "    entry_point=\"inference.py\",\n",
    "    source_dir=\"code\",\n",
    "    role=role,\n",
    "    model_data=model_path,\n",
    "    framework_version=\"1.5.0\",\n",
    "    py_version=\"py3\",\n",
    ")"
   ]
  },
  {
   "cell_type": "code",
   "execution_count": null,
   "id": "e20bc430",
   "metadata": {},
   "outputs": [],
   "source": [
    "# SageMakerFullAccess - policy is a managed policy that includes all the necessary permissions required to perform most actions on SageMaker"
   ]
  },
  {
   "cell_type": "code",
   "execution_count": null,
   "id": "289a65b0",
   "metadata": {},
   "outputs": [],
   "source": [
    "from sagemaker.serializers import JSONSerializer\n",
    "from sagemaker.deserializers import JSONDeserializer\n",
    "\n",
    "# set local_mode to False if you want to deploy on a remote\n",
    "# SageMaker instance\n",
    "\n",
    "local_mode = False\n",
    "\n",
    "if local_mode:\n",
    "    instance_type = \"local\"\n",
    "else:\n",
    "    instance_type = \"ml.t2.medium\" #\"ml.c4.xlarge\"\n",
    "\n",
    "predictor = model.deploy(\n",
    "    initial_instance_count=1,\n",
    "    instance_type=instance_type,\n",
    "    serializer=JSONSerializer(),\n",
    "    deserializer=JSONDeserializer(),\n",
    ")"
   ]
  },
  {
   "cell_type": "code",
   "execution_count": null,
   "id": "de1c309d",
   "metadata": {},
   "outputs": [],
   "source": [
    "predictor.__dict__"
   ]
  },
  {
   "cell_type": "code",
   "execution_count": null,
   "id": "c2d8e5d5",
   "metadata": {},
   "outputs": [],
   "source": [
    "predictor.endpoint_name"
   ]
  },
  {
   "cell_type": "code",
   "execution_count": null,
   "id": "e0aa9a71",
   "metadata": {},
   "outputs": [],
   "source": [
    "predictor.content_type, predictor.serializer, predictor.deserializer"
   ]
  },
  {
   "cell_type": "code",
   "execution_count": 10,
   "id": "76c24e7f",
   "metadata": {},
   "outputs": [],
   "source": [
    "encoded_image = base64.b64encode(payload).decode('utf-8')\n",
    "req = {'inputs':encoded_image}"
   ]
  },
  {
   "cell_type": "code",
   "execution_count": null,
   "id": "8e5ee89b",
   "metadata": {},
   "outputs": [],
   "source": [
    "im_bytes = base64.b64decode(encoded_image)   # im_bytes is a binary image\n",
    "im_file = BytesIO(im_bytes)  # convert image to file-like object\n",
    "image = Image.open(im_file)   # img is now PIL Image object\n",
    "im = np.asarray(image)# convert image to numpy array\n",
    "print(im.shape)\n",
    "image"
   ]
  },
  {
   "cell_type": "markdown",
   "id": "3bf808e4",
   "metadata": {},
   "source": [
    "## Predict using 'predict' function"
   ]
  },
  {
   "cell_type": "code",
   "execution_count": null,
   "id": "7936372a",
   "metadata": {},
   "outputs": [],
   "source": [
    "res = predictor.predict(req)"
   ]
  },
  {
   "cell_type": "code",
   "execution_count": null,
   "id": "57ce96f4",
   "metadata": {},
   "outputs": [],
   "source": [
    "embedding = np.array(res).reshape(-1)"
   ]
  },
  {
   "cell_type": "code",
   "execution_count": null,
   "id": "4d8a2df0",
   "metadata": {},
   "outputs": [],
   "source": [
    "embedding.shape"
   ]
  },
  {
   "cell_type": "code",
   "execution_count": null,
   "id": "eb9e85ae",
   "metadata": {},
   "outputs": [],
   "source": [
    "ENDPOINT_NAME = predictor.endpoint_name"
   ]
  },
  {
   "cell_type": "markdown",
   "id": "00bbcc26",
   "metadata": {},
   "source": [
    "## Predict using 'invoke_endpoint'"
   ]
  },
  {
   "cell_type": "code",
   "execution_count": 11,
   "id": "f72fc378",
   "metadata": {},
   "outputs": [],
   "source": [
    "# define a function to extract image features\n",
    "from time import sleep \n",
    "\n",
    "sm_client = boto3.client('sagemaker-runtime')"
   ]
  },
  {
   "cell_type": "code",
   "execution_count": 12,
   "id": "1b3c7efb",
   "metadata": {},
   "outputs": [],
   "source": [
    "ENDPOINT_NAME = 'pytorch-inference-2021-09-13-14-49-32-180'"
   ]
  },
  {
   "cell_type": "code",
   "execution_count": 13,
   "id": "bbf37e94",
   "metadata": {},
   "outputs": [],
   "source": [
    "resp = sm_client.invoke_endpoint(EndpointName=ENDPOINT_NAME, Body=json.dumps(req),ContentType='application/json') \n",
    "embedding = json.loads((resp['Body'].read()))\n",
    "embedding = list(np.array(embedding).reshape(-1))"
   ]
  },
  {
   "cell_type": "code",
   "execution_count": 14,
   "id": "13409239",
   "metadata": {},
   "outputs": [
    {
     "data": {
      "text/plain": [
       "2048"
      ]
     },
     "execution_count": 14,
     "metadata": {},
     "output_type": "execute_result"
    }
   ],
   "source": [
    "len(embedding)"
   ]
  },
  {
   "cell_type": "markdown",
   "id": "5963a854",
   "metadata": {},
   "source": [
    "## Utility functions for prediction on an s3 object"
   ]
  },
  {
   "cell_type": "code",
   "execution_count": 15,
   "id": "c6cffe8e",
   "metadata": {},
   "outputs": [],
   "source": [
    "def get_predictions(payload): \n",
    "    return sm_client.invoke_endpoint(EndpointName=ENDPOINT_NAME, \n",
    "                                     Body=payload,\n",
    "                                     ContentType='application/json') \n",
    "\n",
    "def extract_features(s3_uri, bucket): \n",
    "    key = s3_uri.replace(f's3://{bucket}/', '') \n",
    "    payload = s3.get_object(Bucket=bucket,Key=key)['Body'].read() \n",
    "\n",
    "    sleep(0.1) \n",
    "    \n",
    "    # get image in base64 format\n",
    "    encoded_image = base64.b64encode(payload).decode('utf-8')\n",
    "    # get predictions\n",
    "    response = get_predictions(json.dumps({'inputs':encoded_image})) \n",
    "    # get response\n",
    "    response_body = json.loads((response['Body'].read())) \n",
    "    # reshape to list of len=2048\n",
    "    feature_lst = list(np.array(response_body).reshape(-1))\n",
    "    \n",
    "    return s3_uri, feature_lst"
   ]
  },
  {
   "cell_type": "markdown",
   "id": "5957531a",
   "metadata": {},
   "source": [
    "## Get features for all images"
   ]
  },
  {
   "cell_type": "code",
   "execution_count": 16,
   "id": "d59dae60",
   "metadata": {},
   "outputs": [
    {
     "data": {
      "text/plain": [
       "'s3://sagemaker-us-east-2-333209439517/geological_similarity/andesite/012L6.jpg'"
      ]
     },
     "execution_count": 16,
     "metadata": {},
     "output_type": "execute_result"
    }
   ],
   "source": [
    "s3_uri = s3_uris[0]\n",
    "s3_uri"
   ]
  },
  {
   "cell_type": "code",
   "execution_count": 17,
   "id": "54e76311",
   "metadata": {},
   "outputs": [],
   "source": [
    "uri, features = extract_features(s3_uri, data_bucket)"
   ]
  },
  {
   "cell_type": "code",
   "execution_count": 18,
   "id": "2ec6992f",
   "metadata": {},
   "outputs": [
    {
     "data": {
      "text/plain": [
       "'s3://sagemaker-us-east-2-333209439517/geological_similarity/andesite/012L6.jpg'"
      ]
     },
     "execution_count": 18,
     "metadata": {},
     "output_type": "execute_result"
    }
   ],
   "source": [
    "uri"
   ]
  },
  {
   "cell_type": "code",
   "execution_count": 19,
   "id": "0f60631c",
   "metadata": {},
   "outputs": [
    {
     "data": {
      "text/plain": [
       "2048"
      ]
     },
     "execution_count": 19,
     "metadata": {},
     "output_type": "execute_result"
    }
   ],
   "source": [
    "len(features)"
   ]
  },
  {
   "cell_type": "code",
   "execution_count": null,
   "id": "e58d5622",
   "metadata": {},
   "outputs": [
    {
     "name": "stderr",
     "output_type": "stream",
     "text": [
      "  1%|          | 227/29998 [00:46<1:41:25,  4.89it/s]"
     ]
    }
   ],
   "source": [
    "all_features = []\n",
    "for s3_uri in tqdm.tqdm(s3_uris):\n",
    "    _, features = extract_features(s3_uri, data_bucket)\n",
    "    all_features.append(features)"
   ]
  },
  {
   "cell_type": "code",
   "execution_count": null,
   "id": "5d6489a8",
   "metadata": {},
   "outputs": [],
   "source": [
    "len(all_features)"
   ]
  },
  {
   "cell_type": "code",
   "execution_count": null,
   "id": "0ed1d9f5",
   "metadata": {},
   "outputs": [],
   "source": [
    "data = {'uris':s3_uris, 'features':all_features}"
   ]
  },
  {
   "cell_type": "code",
   "execution_count": null,
   "id": "70090dc0",
   "metadata": {},
   "outputs": [],
   "source": [
    "s3"
   ]
  },
  {
   "cell_type": "code",
   "execution_count": null,
   "id": "570dc9f2",
   "metadata": {},
   "outputs": [],
   "source": [
    "str(json.dumps(data))"
   ]
  },
  {
   "cell_type": "code",
   "execution_count": null,
   "id": "154bf515",
   "metadata": {},
   "outputs": [],
   "source": []
  },
  {
   "cell_type": "code",
   "execution_count": null,
   "id": "012004d7",
   "metadata": {},
   "outputs": [],
   "source": [
    "bucket"
   ]
  },
  {
   "cell_type": "code",
   "execution_count": null,
   "id": "cba567a4",
   "metadata": {},
   "outputs": [],
   "source": [
    "import json\n",
    "import boto3\n",
    "\n",
    "s3 = boto3.client('s3')\n",
    "data = 'your_json_object here'\n",
    "s3.put_object(\n",
    "     Body=str(json.dumps(data))\n",
    "     Bucket='your_bucket_name'\n",
    "     Key='your_key_here'\n",
    ")"
   ]
  },
  {
   "cell_type": "code",
   "execution_count": null,
   "id": "52788cca",
   "metadata": {},
   "outputs": [],
   "source": [
    "np_feats = np.array(all_fe)"
   ]
  },
  {
   "cell_type": "markdown",
   "id": "f17dc310",
   "metadata": {},
   "source": [
    "# Connect to Elasticsearch"
   ]
  },
  {
   "cell_type": "code",
   "execution_count": null,
   "id": "8c5d95e2",
   "metadata": {},
   "outputs": [],
   "source": [
    "# !pip install requests_aws4auth\n",
    "# !pip install elasticsearch=='7.13.4' #https://opensearch.org/docs/clients/index/"
   ]
  },
  {
   "cell_type": "code",
   "execution_count": null,
   "id": "7a870513",
   "metadata": {},
   "outputs": [],
   "source": [
    "# !pip install  nltk\n",
    "# !pip install jsonlines\n",
    "# !pip install pandarallel\n",
    "# !pip install --upgrade grpcio \n",
    "# !pip install --upgrade s3fs\n"
   ]
  },
  {
   "cell_type": "code",
   "execution_count": null,
   "id": "42bdc5d6",
   "metadata": {},
   "outputs": [],
   "source": [
    "\n",
    "from requests_aws4auth import AWS4Auth\n",
    "from elasticsearch import Elasticsearch, RequestsHttpConnection\n"
   ]
  },
  {
   "cell_type": "code",
   "execution_count": null,
   "id": "7db0a4f4",
   "metadata": {},
   "outputs": [],
   "source": [
    "import elasticsearch"
   ]
  },
  {
   "cell_type": "code",
   "execution_count": null,
   "id": "faa592e4",
   "metadata": {},
   "outputs": [],
   "source": [
    "elasticsearch.__version__"
   ]
  },
  {
   "cell_type": "code",
   "execution_count": null,
   "id": "7082976a",
   "metadata": {},
   "outputs": [],
   "source": [
    "region"
   ]
  },
  {
   "cell_type": "code",
   "execution_count": null,
   "id": "141943c3",
   "metadata": {},
   "outputs": [],
   "source": [
    "service = 'es'"
   ]
  },
  {
   "cell_type": "code",
   "execution_count": null,
   "id": "d11cc334",
   "metadata": {},
   "outputs": [],
   "source": [
    "# ssm = boto3.client('ssm', region_name=region)"
   ]
  },
  {
   "cell_type": "code",
   "execution_count": null,
   "id": "33bc5b24",
   "metadata": {},
   "outputs": [],
   "source": [
    "credentials = boto3.Session().get_credentials()\n",
    "awsauth = AWS4Auth(credentials.access_key, credentials.secret_key,\n",
    "                   region, service, session_token=credentials.token)"
   ]
  },
  {
   "cell_type": "code",
   "execution_count": null,
   "id": "d6dff271",
   "metadata": {},
   "outputs": [],
   "source": [
    "role"
   ]
  },
  {
   "cell_type": "code",
   "execution_count": null,
   "id": "a1b6b053",
   "metadata": {},
   "outputs": [],
   "source": [
    "credentials"
   ]
  },
  {
   "cell_type": "code",
   "execution_count": null,
   "id": "4961c5ec",
   "metadata": {},
   "outputs": [],
   "source": [
    "host = \"search-search-all-wroz4g764qrjndse4eqbika2ia.us-east-1.es.amazonaws.com\"\n",
    "es_index = 'knn-test-1'\n",
    "# \"search-domainname-yourDomainEndpoint.REGION.es.amazonaws.com\""
   ]
  },
  {
   "cell_type": "code",
   "execution_count": null,
   "id": "e405f28b",
   "metadata": {},
   "outputs": [],
   "source": [
    "def connect_to_ES(esEndPoint):\n",
    "    print ('Connecting to the ES Endpoint {0}'.format(esEndPoint))\n",
    "    try:\n",
    "        esClient = Elasticsearch(\n",
    "            hosts=[{'host': esEndPoint, 'port': 443}],\n",
    "            http_auth=('cac','Test123$'),\n",
    "            use_ssl=True,\n",
    "            verify_certs=True,\n",
    "            connection_class=RequestsHttpConnection)\n",
    "        return esClient\n",
    "    except Exception as E:\n",
    "        print(\"Unable to connect to {0}\".format(esEndPoint))\n",
    "        print(E)"
   ]
  },
  {
   "cell_type": "code",
   "execution_count": null,
   "id": "6ae66167",
   "metadata": {},
   "outputs": [],
   "source": [
    "es = connect_to_ES(host)\n",
    "es"
   ]
  },
  {
   "cell_type": "code",
   "execution_count": null,
   "id": "f97c5527",
   "metadata": {},
   "outputs": [],
   "source": [
    "es.indices.exists(index=es_index)"
   ]
  },
  {
   "cell_type": "code",
   "execution_count": null,
   "id": "3d75ed1c",
   "metadata": {},
   "outputs": [],
   "source": [
    "def create_index(index):\n",
    "    \"\"\"\n",
    "    This function will create an index using knn settings\n",
    "    \"\"\"\n",
    "    if not es.indices.exists(index=index):\n",
    "        index_settings = {\n",
    "            \"settings\": {\n",
    "                \"index.knn\": True,\n",
    "                \"index.mapping.total_fields.limit\": \"2000\"\n",
    "            },\n",
    "            \"mappings\": {\n",
    "                \"properties\": {\n",
    "                    \"embeddings\": {\n",
    "                        \"type\": \"knn_vector\",\n",
    "                        \"dimension\": 2048\n",
    "                    }\n",
    "                }\n",
    "            }\n",
    "        }\n",
    "\n",
    "        es.indices.create(index=index, body=json.dumps(index_settings))\n",
    "        print(\"Created the elasticsearch index successufly \")\n",
    "    else:\n",
    "        print(\"elasticsearch index already exists\")"
   ]
  },
  {
   "cell_type": "code",
   "execution_count": null,
   "id": "b97cc0e4",
   "metadata": {},
   "outputs": [],
   "source": [
    "es_index"
   ]
  },
  {
   "cell_type": "code",
   "execution_count": null,
   "id": "95d4c6ce",
   "metadata": {},
   "outputs": [],
   "source": [
    "#Create the index using knn settings\n",
    "create_index(es_index)"
   ]
  },
  {
   "cell_type": "code",
   "execution_count": null,
   "id": "e93285cf",
   "metadata": {},
   "outputs": [],
   "source": [
    "# You can check if the index is created within your es cluster\n",
    "es.indices.get_alias(\"*\")"
   ]
  },
  {
   "cell_type": "code",
   "execution_count": null,
   "id": "9657df8f",
   "metadata": {},
   "outputs": [],
   "source": []
  },
  {
   "cell_type": "code",
   "execution_count": null,
   "id": "d03bf7e9",
   "metadata": {},
   "outputs": [],
   "source": [
    "def es_import(i):\n",
    "    es.index(index='idx_zalando',\n",
    "             id=vector_id,\n",
    "             body={\"vector\": i[1], \n",
    "                   \"image\": i[0]}\n",
    "            )\n",
    "def ingest_data_into_es(event):\n",
    "    \n",
    "    loaded_keys = []\n",
    "    \n",
    "    bucket = event['bucket']\n",
    "    key = event['key']\n",
    "\n",
    "    loaded_keys += [key]\n",
    "\n",
    "    obj = s3_client.get_object(Bucket=bucket, Key=key)\n",
    "\n",
    "    records = json.loads(obj['Body'].read().decode('utf-8'))\n",
    "\n",
    "\n",
    "    count = 0\n",
    "    lost_records = 0\n",
    "\n",
    "    for record in records:\n",
    "        # Get the primary key for use as the Elasticsearch ID\n",
    "        record_id = record['id']\n",
    "\n",
    "        try:\n",
    "            if 'embeddings' in record:\n",
    "                record['embeddings'] = ast.literal_eval(record['embeddings'])\n",
    "\n",
    "            es.index(index=es_index, id=record_id, doc_type='_doc', body=record)\n",
    "    \n",
    "            count += 1\n",
    "        except Exception as error:\n",
    "            logger.error(f\"An error {error} for record {record}\")\n",
    "            lost_records += 1\n",
    "\n",
    "        \n",
    "    logger.info(f'{lost_records} out of {len(records)} are lost records')\n",
    "\n",
    "    logger.info(f'{count} out of {len(records)} records has been processed')\n",
    "\n",
    "    return {\n",
    "        'statusCode': 200,\n",
    "        'body': json.dumps(str(count) + ' records processed.')\n",
    "    }\n",
    "\n"
   ]
  },
  {
   "cell_type": "code",
   "execution_count": null,
   "id": "1c468465",
   "metadata": {},
   "outputs": [],
   "source": []
  },
  {
   "cell_type": "code",
   "execution_count": null,
   "id": "800ecedd",
   "metadata": {},
   "outputs": [],
   "source": [
    "\n",
    "#Check that data is indeed in ES\n",
    "res = es.search(index=es_index, body={\n",
    "                    \"query\": {\n",
    "                            \"match_all\": {}\n",
    "                        }},\n",
    "           size=10)\n",
    "\n",
    "\n",
    "\n",
    "es_query ={\n",
    "            \"query\": {\n",
    "                \"knn\": {\n",
    "                    \"embeddings\": {\n",
    "                        \"vector\": query_embeddings,\n",
    "                        \"k\": 5\n",
    "                    }\n",
    "                }\n",
    "            }\n",
    "    }\n",
    "\n",
    "res = es.search(index=es_index, body=es_query, size=page_size)\n",
    "\n"
   ]
  },
  {
   "cell_type": "code",
   "execution_count": null,
   "id": "2bc4e6a0",
   "metadata": {},
   "outputs": [],
   "source": []
  },
  {
   "cell_type": "code",
   "execution_count": null,
   "id": "dec2a869",
   "metadata": {},
   "outputs": [],
   "source": []
  },
  {
   "cell_type": "code",
   "execution_count": null,
   "id": "a7fe1774",
   "metadata": {},
   "outputs": [],
   "source": []
  }
 ],
 "metadata": {
  "kernelspec": {
   "display_name": "conda_pytorch_p36",
   "language": "python",
   "name": "conda_pytorch_p36"
  },
  "language_info": {
   "codemirror_mode": {
    "name": "ipython",
    "version": 3
   },
   "file_extension": ".py",
   "mimetype": "text/x-python",
   "name": "python",
   "nbconvert_exporter": "python",
   "pygments_lexer": "ipython3",
   "version": "3.6.13"
  }
 },
 "nbformat": 4,
 "nbformat_minor": 5
}
